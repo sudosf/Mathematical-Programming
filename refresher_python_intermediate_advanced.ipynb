{
  "cells": [
    {
      "cell_type": "markdown",
      "metadata": {
        "id": "view-in-github",
        "colab_type": "text"
      },
      "source": [
        "<a href=\"https://colab.research.google.com/github/sudosf/Mathematical-Programming/blob/main/refresher_python_intermediate_advanced.ipynb\" target=\"_parent\"><img src=\"https://colab.research.google.com/assets/colab-badge.svg\" alt=\"Open In Colab\"/></a>"
      ]
    },
    {
      "cell_type": "markdown",
      "metadata": {
        "id": "ugS_LV5inS1-"
      },
      "source": [
        "Solve:\n",
        "\n",
        "$\\begin{cases} x+2y=1 \\\\ 3x+4y=2 \\end{cases}$"
      ]
    },
    {
      "cell_type": "code",
      "execution_count": null,
      "metadata": {
        "id": "SKRlnYUznS2A",
        "outputId": "d75854e2-c862-4f5b-bf61-a3220c89a7ff"
      },
      "outputs": [
        {
          "name": "stdout",
          "output_type": "stream",
          "text": [
            "[[1 2]\n",
            " [3 4]]\n",
            "[1 2]\n",
            "[[-2.   1. ]\n",
            " [ 1.5 -0.5]]\n",
            "[  2.22044605e-16   5.00000000e-01]\n"
          ]
        }
      ],
      "source": [
        "import numpy as np\n",
        "A = np.array([[1, 2],[3, 4]])\n",
        "b = np.array([1, 2])\n",
        "\n",
        "print (A)\n",
        "print (b)\n",
        "\n",
        "A_inv = np.linalg.inv(A)\n",
        "\n",
        "print (A_inv)\n",
        "\n",
        "x = np.dot(A_inv,b)\n",
        "\n",
        "print (x)\n"
      ]
    },
    {
      "cell_type": "markdown",
      "metadata": {
        "id": "n_O9ilQ1nS2C"
      },
      "source": [
        "# CONTROL EXECUTIONS\n",
        "For the control of the execution of a program it is possible to use the tests of conditions with $if / elif / else$ and the loops $for or while$. Note the use of: before lines that require a higher level of indentation (and mandatory!):"
      ]
    },
    {
      "cell_type": "code",
      "execution_count": null,
      "metadata": {
        "id": "ZWxicEi0nS2C",
        "outputId": "947fd746-eaa0-48e7-d584-4173c5cbac0f"
      },
      "outputs": [
        {
          "name": "stdout",
          "output_type": "stream",
          "text": [
            "(1, 'odd')\n",
            "(3, 'odd')\n",
            "(5, 'odd')\n"
          ]
        }
      ],
      "source": [
        "list0 = range(6)\n",
        "\n",
        "for value in list0:\n",
        "    if value in [0, 2, 4]:\n",
        "        # \"break\" leave the loop without considering \"else\"\n",
        "        # \"continue\" continue with the next iteration \n",
        "        continue\n",
        "    else:\n",
        "        print (value, 'odd')\n"
      ]
    },
    {
      "cell_type": "code",
      "execution_count": null,
      "metadata": {
        "id": "q-IoKPTNnS2C",
        "outputId": "435850e4-946d-409f-c6a7-59c21874e634"
      },
      "outputs": [
        {
          "name": "stdout",
          "output_type": "stream",
          "text": [
            "5\n",
            "4\n",
            "3\n",
            "2\n",
            "1\n"
          ]
        }
      ],
      "source": [
        "i = 5\n",
        "\n",
        "while (i>0):\n",
        "    print (i)\n",
        "    i=i-1"
      ]
    },
    {
      "cell_type": "markdown",
      "metadata": {
        "id": "DdkvtMennS2D"
      },
      "source": [
        "There is no $switch$ equivalent in Python, you have to use $if / elif / else$:"
      ]
    },
    {
      "cell_type": "code",
      "execution_count": null,
      "metadata": {
        "id": "R77kfB-_nS2D",
        "outputId": "83d3ad1e-7b92-4add-db3e-b2f8b447d13a"
      },
      "outputs": [
        {
          "name": "stdout",
          "output_type": "stream",
          "text": [
            "list0[1] is 1\n"
          ]
        }
      ],
      "source": [
        "if list0[1]==0:\n",
        "    print('list0[1] is 0')\n",
        "elif list0[1]==1:\n",
        "    print ('list0[1] is 1')\n",
        "else:\n",
        "    print('?')\n",
        "    \n",
        "    "
      ]
    },
    {
      "cell_type": "markdown",
      "metadata": {
        "id": "keTQqTPunS2D"
      },
      "source": [
        "Python offers standard exception handling. The following example shows the syntax to use."
      ]
    },
    {
      "cell_type": "code",
      "execution_count": null,
      "metadata": {
        "id": "h3P0C0UPnS2D"
      },
      "outputs": [],
      "source": [
        "def autreFonction(n):\n",
        "        try:  # instruction susceptible to raise an  exception\n",
        "            print(1 / n)\n",
        "        except ZeroDivisionError:  # if the exception is raised\n",
        "            print('Division by 0 !')\n",
        "        else:  # else\n",
        "            print ('we are here')\n",
        "        finally:\n",
        "            # exécuté après le bloc \"try\" et le\n",
        "            #  traitement des éventuelles erreurs\n",
        "            print('    End...')"
      ]
    },
    {
      "cell_type": "code",
      "execution_count": null,
      "metadata": {
        "id": "iQQIvA-snS2E",
        "outputId": "f2263bff-db90-4f92-b4cc-e3d3d02c1109"
      },
      "outputs": [
        {
          "name": "stdout",
          "output_type": "stream",
          "text": [
            "1\n",
            "we are here\n",
            "    End...\n"
          ]
        }
      ],
      "source": [
        "autreFonction(1)"
      ]
    },
    {
      "cell_type": "code",
      "execution_count": null,
      "metadata": {
        "id": "8TCwGlu_nS2E",
        "outputId": "1a0ed73c-5235-45bc-d787-871921fbf69a"
      },
      "outputs": [
        {
          "name": "stdout",
          "output_type": "stream",
          "text": [
            "Division by 0 !\n",
            "    End...\n"
          ]
        }
      ],
      "source": [
        "autreFonction(0)"
      ]
    },
    {
      "cell_type": "code",
      "execution_count": null,
      "metadata": {
        "id": "Hh11kQYVnS2E",
        "outputId": "b85e0783-e86e-46ef-ad0c-e2b3fae22b8c"
      },
      "outputs": [
        {
          "data": {
            "text/plain": [
              "<Figure size 640x480 with 1 Axes>"
            ]
          },
          "metadata": {},
          "output_type": "display_data"
        }
      ],
      "source": [
        "import numpy as np\n",
        "from scipy import interpolate\n",
        "from matplotlib import pyplot as plt\n",
        "\n",
        "t = np.arange(11)\n",
        "sine = np.sin(t)\n",
        "\n",
        "#creating our quadratic interpolation subfunction\n",
        "\n",
        "F_sine = interpolate.interp1d(t,sine,kind='quadratic')\n",
        "\n",
        "# second time axis on which we interpolate\n",
        "\n",
        "t2 = np.arange(0, 10., .25)\n",
        "\n",
        "\n",
        "sine2 = F_sine(t2)\n",
        "\n",
        "plt.plot(t, sine, 'rx-')\n",
        "plt.plot(t2, sine2, 'bd-')\n",
        "plt.show()\n"
      ]
    },
    {
      "cell_type": "markdown",
      "metadata": {
        "id": "XjgYlbcqnS2E"
      },
      "source": [
        "# Difference Formulas for the Derivative\n",
        "\n",
        "There are 3 mains difference formulas for numerically approximating derivatives.\n",
        "\n",
        "The $forward$ difference formula with step size $h$ is\n",
        "\n",
        "# $f^\\prime (a)\\approx \\frac{f(a+h)-f(a)}{h}$\n",
        "\n",
        "The $backward$ difference formula with step size $h$ is\n",
        "\n",
        "# $f^\\prime (a)\\approx \\frac{f(a)-f(a-h)}{h}$\n",
        "\n",
        "\n",
        "The $central$ difference formula with step size $h$ is the average of the $forward$ and $backwards$ difference formulas\n",
        "# $f^\\prime (a)\\approx \\frac{1}{2}\\Bigg(\\frac{f(a+h)-f(a)}{h}+\\frac{f(a)-f(a-h)}{h}\\Bigg)=\\frac{f(a+h)-f(a-h)}{2h}$\n",
        "\n",
        "\n",
        "Let's write a function called derivative which takes input parameters $f, a$, $method$ and $h$ (with default values $method='central'$ and $h=0.01$) and returns the corresponding difference formula for $f^\\prime(a)$ with step size $h$.\n",
        "\n",
        "\n"
      ]
    },
    {
      "cell_type": "code",
      "execution_count": null,
      "metadata": {
        "id": "EQsCHr8znS2F"
      },
      "outputs": [],
      "source": [
        "def derivative(f,a,method='central',h=0.01):\n",
        "    '''Compute the difference formula for f'(a) with step size h.\n",
        "\n",
        "    Parameters\n",
        "    ----------\n",
        "    f : function\n",
        "        Vectorized function of one variable\n",
        "    a : number\n",
        "        Compute derivative at x = a\n",
        "    method : string\n",
        "        Difference formula: 'forward', 'backward' or 'central'\n",
        "    h : number\n",
        "        Step size in difference formula\n",
        "\n",
        "    Returns\n",
        "    -------\n",
        "    float\n",
        "        Difference formula:\n",
        "            central: f(a+h) - f(a-h))/2h\n",
        "            forward: f(a+h) - f(a))/h\n",
        "            backward: f(a) - f(a-h))/h            \n",
        "    '''\n",
        "    if method == 'central':\n",
        "        return (f(a + h) - f(a - h))/(2*h)\n",
        "    elif method == 'forward':\n",
        "        return (f(a + h) - f(a))/h\n",
        "    elif method == 'backward':\n",
        "        return (f(a) - f(a - h))/h\n",
        "    else:\n",
        "        raise ValueError(\"Method must be 'central', 'forward' or 'backward'.\")"
      ]
    },
    {
      "cell_type": "markdown",
      "metadata": {
        "id": "pZ0FJBK-nS2F"
      },
      "source": [
        "Let's test our function on some simple functions. For example, we know\n",
        "\n",
        "# $\\frac{d}{dx}cos (x)=-sin(0)=0$, for $x = 0$"
      ]
    },
    {
      "cell_type": "code",
      "execution_count": null,
      "metadata": {
        "id": "DZSPccUFnS2F",
        "outputId": "f26f6435-d04b-4a51-a67b-276baaf4013c"
      },
      "outputs": [
        {
          "data": {
            "text/plain": [
              "0.0"
            ]
          },
          "execution_count": 20,
          "metadata": {},
          "output_type": "execute_result"
        }
      ],
      "source": [
        "derivative(np.cos, 0, method='forward', h=1e-8)"
      ]
    },
    {
      "cell_type": "markdown",
      "metadata": {
        "id": "vveXujT7nS2F"
      },
      "source": [
        "We also know\n",
        "\n",
        "# $\\frac{d}{dx}e^{x}=e^{0}=1$"
      ]
    },
    {
      "cell_type": "code",
      "execution_count": null,
      "metadata": {
        "id": "wh-tUFSpnS2F",
        "outputId": "27f30777-3f44-40a2-beb8-e5cb4a39880b"
      },
      "outputs": [
        {
          "name": "stdout",
          "output_type": "stream",
          "text": [
            "1.00000000001\n",
            "0.999950001667\n"
          ]
        }
      ],
      "source": [
        "print (derivative(np.exp,0,h=0.00001))\n",
        "\n",
        "print (derivative(np.exp,0,method='backward',h=0.0001))"
      ]
    },
    {
      "cell_type": "markdown",
      "metadata": {
        "id": "dzaYQThWnS2G"
      },
      "source": [
        "Notice that our function can take an array of inputs \n",
        "for  $a$ and return the derivatives for each $a$ value. For example, we can plot the derivative of $sin(x)$:"
      ]
    },
    {
      "cell_type": "code",
      "execution_count": null,
      "metadata": {
        "id": "WygmtEBpnS2G",
        "outputId": "8b3bb897-8414-46c6-df25-086daff869b4"
      },
      "outputs": [
        {
          "data": {
            "image/png": "[encoded data removed]",
            "text/plain": [
              "<Figure size 864x360 with 1 Axes>"
            ]
          },
          "metadata": {},
          "output_type": "display_data"
        }
      ],
      "source": [
        "x = np.linspace(0,5*np.pi,100)\n",
        "dydx = derivative(np.sin,x)\n",
        "\n",
        "dYdx = np.cos(x)\n",
        "\n",
        "plt.figure(figsize=(12,5))\n",
        "plt.plot(x,dydx,'r.',label='Central Difference')\n",
        "plt.plot(x,dYdx,'b',label='True Value')\n",
        "\n",
        "plt.title('Central Difference Derivative of y = cos(x)')\n",
        "plt.legend(loc='best')\n",
        "plt.show()"
      ]
    },
    {
      "cell_type": "markdown",
      "metadata": {
        "id": "hJN9feWFnS2G"
      },
      "source": [
        "Let's compute and plot the derivative of a complicated function\n",
        "\n",
        "# $y=\\Bigg( \\frac{4x^2+2x+1}{x+2e^x}\\Bigg)^x$"
      ]
    },
    {
      "cell_type": "code",
      "execution_count": null,
      "metadata": {
        "id": "5Rjq2UhnnS2G",
        "outputId": "b2e6bc77-1efa-401f-965a-183f5b40f8b9"
      },
      "outputs": [
        {
          "data": {
            "image/png": "[encoded data removed]",
            "text/plain": [
              "<Figure size 864x360 with 1 Axes>"
            ]
          },
          "metadata": {},
          "output_type": "display_data"
        }
      ],
      "source": [
        "x = np.linspace(0,6,100)\n",
        "f = lambda x: ((4*x**2 + 2*x + 1)/(x + 2*np.exp(x)))**x\n",
        "y = f(x)\n",
        "dydx = derivative(f,x)\n",
        "\n",
        "plt.figure(figsize=(12,5))\n",
        "plt.plot(x,y,label='y=f(x)')\n",
        "plt.plot(x,dydx,label=\"Central Difference y=f'(x)\")\n",
        "plt.legend()\n",
        "plt.grid(True)\n",
        "\n",
        "plt.show()"
      ]
    },
    {
      "cell_type": "code",
      "execution_count": null,
      "metadata": {
        "id": "VKV2SGUEnS2G",
        "outputId": "eb5a1bc6-e9e4-4e9e-e378-9de1fbf17915"
      },
      "outputs": [
        {
          "data": {
            "image/png": "[encoded data removed]",
            "text/plain": [
              "<Figure size 432x288 with 2 Axes>"
            ]
          },
          "metadata": {},
          "output_type": "display_data"
        }
      ],
      "source": [
        "from scipy import fftpack\n",
        "\n",
        "# sampling frequency\n",
        "fe = 100\n",
        "\n",
        "# time period in second\n",
        "\n",
        "T = 10\n",
        "\n",
        "# nomber of points or data nuber of sample\n",
        "N = T*fe\n",
        "\n",
        "# step times\n",
        "t = np.arange(1.,N)/fe\n",
        "\n",
        "# signal frequency\n",
        "f0 = 0.5\n",
        "\n",
        "# signal \n",
        "sine = np.sin(2*np.pi*f0*t)\n",
        "\n",
        "# add noise\n",
        "bruit = np.random.normal(0,0.5,N-1)\n",
        "sine2 = sine + bruit\n",
        "# Fourrier transform\n",
        "fourier = fftpack.fft(sine2)/np.size(sine2)\n",
        "# step frequency\n",
        "axe_f = np.arange(0.,N-1)*fe/N\n",
        "# On plot\n",
        "plt.figure()\n",
        "plt.subplot(121)\n",
        "plt.plot(t,sine2,'-')\n",
        "plt.plot(t,sine,'r-')\n",
        "plt.xlabel('Time axis, in second')\n",
        "plt.subplot(122)\n",
        "plt.plot(axe_f,np.abs(fourier),'x-')\n",
        "plt.xlabel('Frequency axis in Hertz')\n",
        "plt.show()\n",
        "\n",
        "\n"
      ]
    },
    {
      "cell_type": "code",
      "execution_count": null,
      "metadata": {
        "id": "ZcF2myzOnS2H"
      },
      "outputs": [],
      "source": []
    }
  ],
  "metadata": {
    "kernelspec": {
      "display_name": "Python 2",
      "language": "python",
      "name": "python2"
    },
    "language_info": {
      "codemirror_mode": {
        "name": "ipython",
        "version": 2
      },
      "file_extension": ".py",
      "mimetype": "text/x-python",
      "name": "python",
      "nbconvert_exporter": "python",
      "pygments_lexer": "ipython2",
      "version": "2.7.6"
    },
    "colab": {
      "provenance": [],
      "include_colab_link": true
    }
  },
  "nbformat": 4,
  "nbformat_minor": 0
}