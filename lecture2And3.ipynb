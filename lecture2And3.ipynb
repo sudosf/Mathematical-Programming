{
  "cells": [
    {
      "cell_type": "markdown",
      "metadata": {
        "id": "view-in-github",
        "colab_type": "text"
      },
      "source": [
        "<a href=\"https://colab.research.google.com/github/sudosf/Mathematical-Programming/blob/main/lecture2And3.ipynb\" target=\"_parent\"><img src=\"https://colab.research.google.com/assets/colab-badge.svg\" alt=\"Open In Colab\"/></a>"
      ]
    },
    {
      "cell_type": "markdown",
      "metadata": {
        "id": "trdEYnU1XHGO"
      },
      "source": [
        "This tutorial covers the basics of python programming. It introduces some of the built-in python module and how to use them.\n",
        "\n",
        "Author: Marcel atemkeng (m.atemkeng@ru.ac.za)"
      ]
    },
    {
      "cell_type": "markdown",
      "metadata": {
        "id": "eBrVrnlXXHGT"
      },
      "source": [
        "# The Numpy Array Object"
      ]
    },
    {
      "cell_type": "markdown",
      "metadata": {
        "id": "CSDDoNaBXHGU"
      },
      "source": [
        "Numpy is a fundamental scientific package (module) in for multi-dimensional arrays. Arrays are similar to lists, but the elements of an array must be of the same type, e.g, float, int or string. To begin with, we need to import the numpy package. In most cases np is used as an abbreviation for numpy."
      ]
    },
    {
      "cell_type": "code",
      "execution_count": null,
      "metadata": {
        "id": "TjDiTzjlXHGX"
      },
      "outputs": [],
      "source": [
        "import numpy as np"
      ]
    },
    {
      "cell_type": "markdown",
      "metadata": {
        "id": "ca73Ufv2XHGZ"
      },
      "source": [
        "## Creating Numpy Arrays"
      ]
    },
    {
      "cell_type": "markdown",
      "metadata": {
        "id": "7PBP7z5kXHGa"
      },
      "source": [
        "Numpy arrays can be created in various fashions. They can be created manually or initialised using the in-built functions, e.g np.array(), np.zeros(), np.ones(), np.arange(), np.linspace, np.indices. The in-built function np.array does not require any parameter and it returns an empty array. Given the desired shape, np.zeros returns an array filled with zeros. For instance, np.zeros((2,2)) returns a 2×2 array filled with zeros. Other parameters also can be included such as type and order; they are optional paremters. Same applies to np.ones, but now the array is filled with ones instead. np.arange takes start, stop and step values as parameters. It returns an array with regularly specified incrementing values, the default start is 0 and the default increment is 1. np.linspace returns an array with evenly spaced elements over a specified interval. np.indices() acts like a grid, it returns an array representing the indices of a grid."
      ]
    },
    {
      "cell_type": "markdown",
      "metadata": {
        "id": "p3cddNHdXHGb"
      },
      "source": [
        "Let us give it a try!"
      ]
    },
    {
      "cell_type": "code",
      "execution_count": null,
      "metadata": {
        "id": "_xD9IZ8uXHGc",
        "outputId": "0c75a0ed-6e41-4206-d975-544016537410"
      },
      "outputs": [
        {
          "data": {
            "text/plain": [
              "array([[2, 3, 4],\n",
              "       [6, 7, 8]])"
            ]
          },
          "execution_count": 3,
          "metadata": {},
          "output_type": "execute_result"
        }
      ],
      "source": [
        "A= np.array([[2,3,4], [6,7,8]], dtype='int')\n",
        "A"
      ]
    },
    {
      "cell_type": "code",
      "execution_count": null,
      "metadata": {
        "id": "aQ7a9W1_XHGe",
        "outputId": "ab3c9793-fde1-49f2-c664-d736eecb863a"
      },
      "outputs": [
        {
          "data": {
            "text/plain": [
              "array([[0., 0., 0.],\n",
              "       [0., 0., 0.]])"
            ]
          },
          "execution_count": 4,
          "metadata": {},
          "output_type": "execute_result"
        }
      ],
      "source": [
        "B = np.zeros((2,3))\n",
        "B"
      ]
    },
    {
      "cell_type": "code",
      "execution_count": null,
      "metadata": {
        "id": "TvgU6NETXHGg",
        "outputId": "87c7ea24-0b11-49b7-b884-2129d5647584"
      },
      "outputs": [
        {
          "data": {
            "text/plain": [
              "array([[1., 1., 1., 1.],\n",
              "       [1., 1., 1., 1.]])"
            ]
          },
          "execution_count": 5,
          "metadata": {},
          "output_type": "execute_result"
        }
      ],
      "source": [
        "C = np.ones((2,4),dtype='float')\n",
        "C"
      ]
    },
    {
      "cell_type": "code",
      "execution_count": null,
      "metadata": {
        "id": "yolI7QZ1XHGj",
        "outputId": "b6aadf4a-fae3-46f3-9b78-d04915185c12"
      },
      "outputs": [
        {
          "data": {
            "text/plain": [
              "array([2, 3, 4, 5, 6, 7, 8, 9])"
            ]
          },
          "execution_count": 6,
          "metadata": {},
          "output_type": "execute_result"
        }
      ],
      "source": [
        "D = np.arange(2,10)\n",
        "D"
      ]
    },
    {
      "cell_type": "code",
      "execution_count": null,
      "metadata": {
        "id": "9PoratusXHGk",
        "outputId": "a3e5682e-b7d2-4305-8d4a-685fd22b6e5e"
      },
      "outputs": [
        {
          "data": {
            "text/plain": [
              "array([0.        , 0.03448276, 0.06896552, 0.10344828, 0.13793103,\n",
              "       0.17241379, 0.20689655, 0.24137931, 0.27586207, 0.31034483,\n",
              "       0.34482759, 0.37931034, 0.4137931 , 0.44827586, 0.48275862,\n",
              "       0.51724138, 0.55172414, 0.5862069 , 0.62068966, 0.65517241,\n",
              "       0.68965517, 0.72413793, 0.75862069, 0.79310345, 0.82758621,\n",
              "       0.86206897, 0.89655172, 0.93103448, 0.96551724, 1.        ])"
            ]
          },
          "execution_count": 7,
          "metadata": {},
          "output_type": "execute_result"
        }
      ],
      "source": [
        "E = np.linspace(0,1,30)\n",
        "E"
      ]
    },
    {
      "cell_type": "code",
      "execution_count": null,
      "metadata": {
        "id": "_v8PlNvZXHGl",
        "outputId": "1b26ec06-a23b-4ecd-b3aa-3be3c81e14b0"
      },
      "outputs": [
        {
          "name": "stdout",
          "output_type": "stream",
          "text": [
            "[[[0 0 0]\n",
            "  [1 1 1]\n",
            "  [2 2 2]]\n",
            "\n",
            " [[0 1 2]\n",
            "  [0 1 2]\n",
            "  [0 1 2]]]\n"
          ]
        }
      ],
      "source": [
        "F = np.indices((3,3))\n",
        "print(F)"
      ]
    },
    {
      "cell_type": "markdown",
      "metadata": {
        "id": "eVV0YDGeXHGm"
      },
      "source": [
        "Once we have initialised an array, we can get hold of its shape, dimension and type of the elements."
      ]
    },
    {
      "cell_type": "markdown",
      "metadata": {
        "id": "DNjEjD_EXHGm"
      },
      "source": [
        "A.shape: shape of array A"
      ]
    },
    {
      "cell_type": "markdown",
      "metadata": {
        "id": "IU_5roCSXHGn"
      },
      "source": [
        "A.ndim: dimension of array A"
      ]
    },
    {
      "cell_type": "markdown",
      "metadata": {
        "id": "Savh81I2XHGn"
      },
      "source": [
        "A.dtype: type of the elements in array A"
      ]
    },
    {
      "cell_type": "code",
      "execution_count": null,
      "metadata": {
        "id": "KzDCDqGrXHGn",
        "outputId": "5365258e-78ae-4667-dff6-3b360e8fa85e"
      },
      "outputs": [
        {
          "data": {
            "text/plain": [
              "((2, 3), 2, dtype('int64'))"
            ]
          },
          "execution_count": 14,
          "metadata": {},
          "output_type": "execute_result"
        }
      ],
      "source": [
        "A.shape, A.ndim, A.dtype"
      ]
    },
    {
      "cell_type": "markdown",
      "metadata": {
        "id": "iK9o0e6JXHGo"
      },
      "source": [
        "## Array Manipulation"
      ]
    },
    {
      "cell_type": "markdown",
      "metadata": {
        "id": "iZNQrzFfXHGo"
      },
      "source": [
        "### Basic Operations"
      ]
    },
    {
      "cell_type": "markdown",
      "metadata": {
        "id": "uYIjGdYpXHGp"
      },
      "source": [
        "Numpy arrays basically behave similar to matrices but they are not matrices. The basic operations such as addition, subtraction and multiplication can be easily performed on them. Note that if it is a binary operation, then the numpy arrays involved must be of the same shape."
      ]
    },
    {
      "cell_type": "code",
      "execution_count": null,
      "metadata": {
        "id": "OwvgphBwXHGp",
        "outputId": "dde92df8-a6b5-4c79-e13e-49cc9db959a6"
      },
      "outputs": [
        {
          "name": "stdout",
          "output_type": "stream",
          "text": [
            "[[1 7 3]\n",
            " [4 5 6]]\n"
          ]
        }
      ],
      "source": [
        "A = np.array([(1,7,3),(4,5,6)]) ;\n",
        "B = np.array([(8,12,1),(6,9,11)])\n",
        "A ** 2 #Squaring the elements in the array\n",
        "print(A)"
      ]
    },
    {
      "cell_type": "code",
      "execution_count": null,
      "metadata": {
        "id": "8GMPkLi8XHGs",
        "outputId": "feebd76f-2a5c-4859-db48-50af69ae426a"
      },
      "outputs": [
        {
          "data": {
            "text/plain": [
              "array([[ 9, 19,  4],\n",
              "       [10, 14, 17]])"
            ]
          },
          "execution_count": 44,
          "metadata": {},
          "output_type": "execute_result"
        }
      ],
      "source": [
        "A + B # Adding two numpy array"
      ]
    },
    {
      "cell_type": "code",
      "execution_count": null,
      "metadata": {
        "id": "-juxv2uvXHGt",
        "outputId": "b87647ab-4fb8-43d1-dbfc-ef1795f1702a"
      },
      "outputs": [
        {
          "data": {
            "text/plain": [
              "array([[-7, -5,  2],\n",
              "       [-2, -4, -5]])"
            ]
          },
          "execution_count": 45,
          "metadata": {},
          "output_type": "execute_result"
        }
      ],
      "source": [
        "A - B # Subtracting two numpy arrays"
      ]
    },
    {
      "cell_type": "code",
      "execution_count": null,
      "metadata": {
        "id": "w9THQzZbXHGt",
        "outputId": "569c59a2-f939-466d-edd2-3e0da44af7c9"
      },
      "outputs": [
        {
          "data": {
            "text/plain": [
              "array([[ 8, 84,  3],\n",
              "       [24, 45, 66]])"
            ]
          },
          "execution_count": 46,
          "metadata": {},
          "output_type": "execute_result"
        }
      ],
      "source": [
        "A * B # Elementwise multiplication of two numpy arrays"
      ]
    },
    {
      "cell_type": "code",
      "execution_count": null,
      "metadata": {
        "id": "eJ4p-7atXHGu",
        "outputId": "5c1379ad-a1af-4bf8-8159-44c92899e222"
      },
      "outputs": [
        {
          "data": {
            "text/plain": [
              "array([[ 95, 102],\n",
              "       [ 98, 135]])"
            ]
          },
          "execution_count": 47,
          "metadata": {},
          "output_type": "execute_result"
        }
      ],
      "source": [
        "np.dot(A,B.T) # matrix multiplication; B.T returns the transpose of B"
      ]
    },
    {
      "cell_type": "markdown",
      "metadata": {
        "id": "pveZkivyXHGv"
      },
      "source": [
        "### Shape Manipulation"
      ]
    },
    {
      "cell_type": "markdown",
      "metadata": {
        "id": "WFk-rE2sXHGw"
      },
      "source": [
        "The shape of a numpy array is given by the number of elements along the individual axis and it can be manipulated through various commands."
      ]
    },
    {
      "cell_type": "code",
      "execution_count": null,
      "metadata": {
        "id": "gQHEmuQlXHGx"
      },
      "outputs": [],
      "source": [
        "A = np.arange(8) # one dimensional array of shape (8,)"
      ]
    },
    {
      "cell_type": "code",
      "execution_count": null,
      "metadata": {
        "id": "S27-CJmLXHGx"
      },
      "outputs": [],
      "source": [
        "B = np.arange(2,10) # one dimensional array of shape (8,)"
      ]
    },
    {
      "cell_type": "code",
      "execution_count": null,
      "metadata": {
        "id": "4fPutIn5XHGx",
        "outputId": "6b2be6a3-41ab-43c0-ba48-90f75fd46a01"
      },
      "outputs": [
        {
          "data": {
            "text/plain": [
              "array([[0, 1],\n",
              "       [2, 3],\n",
              "       [4, 5],\n",
              "       [6, 7]])"
            ]
          },
          "execution_count": 50,
          "metadata": {},
          "output_type": "execute_result"
        }
      ],
      "source": [
        "A.reshape(4,2) #changing the shape of A to (4,2)"
      ]
    },
    {
      "cell_type": "code",
      "execution_count": null,
      "metadata": {
        "id": "scFdShAjXHGx",
        "outputId": "f3cf374c-7a18-43a8-dde8-71f572482d2d"
      },
      "outputs": [
        {
          "data": {
            "text/plain": [
              "array([0, 1, 2, 3, 4, 5, 6, 7, 2, 3, 4, 5, 6, 7, 8, 9])"
            ]
          },
          "execution_count": 51,
          "metadata": {},
          "output_type": "execute_result"
        }
      ],
      "source": [
        "np.concatenate((A,B),axis=0) #concatening two one-dimensional numpy arrays"
      ]
    },
    {
      "cell_type": "code",
      "execution_count": null,
      "metadata": {
        "id": "keGr2VZ5XHGy",
        "outputId": "ae96bec1-2864-4960-f3a4-83ade9d4228b"
      },
      "outputs": [
        {
          "data": {
            "text/plain": [
              "array([0, 1, 2, 3, 4, 5, 6, 7, 2, 3, 4, 5, 6, 7, 8, 9])"
            ]
          },
          "execution_count": 52,
          "metadata": {},
          "output_type": "execute_result"
        }
      ],
      "source": [
        "np.hstack((A,B)) #stack arrays in sequence horizontally (column wise); similar to concatenate"
      ]
    },
    {
      "cell_type": "code",
      "execution_count": null,
      "metadata": {
        "id": "CYs1by5_XHGy",
        "outputId": "7d0a0ab6-93fc-4f0c-a5d2-bd53216b3b52"
      },
      "outputs": [
        {
          "data": {
            "text/plain": [
              "array([[ 1,  7,  3],\n",
              "       [ 4,  5,  6],\n",
              "       [ 8, 12,  1],\n",
              "       [ 6,  9, 11]])"
            ]
          },
          "execution_count": 19,
          "metadata": {},
          "output_type": "execute_result"
        }
      ],
      "source": [
        "np.vstack((A,B)) #stack arrays in sequence horizontally (row wise)."
      ]
    },
    {
      "cell_type": "code",
      "execution_count": null,
      "metadata": {
        "id": "pu27AwybXHGy"
      },
      "outputs": [],
      "source": []
    },
    {
      "cell_type": "code",
      "execution_count": null,
      "metadata": {
        "id": "JWYd2cqkXHGz",
        "outputId": "2605c205-8910-4de2-d0c1-7f53ead6a070"
      },
      "outputs": [
        {
          "data": {
            "text/plain": [
              "[array([[1, 7, 3]]), array([[4, 5, 6]])]"
            ]
          },
          "execution_count": 27,
          "metadata": {},
          "output_type": "execute_result"
        }
      ],
      "source": [
        "C = A.reshape(2,3) #reshaping the array\n",
        "np.vsplit(C,2) # spliting the array into subarrays"
      ]
    },
    {
      "cell_type": "code",
      "execution_count": null,
      "metadata": {
        "id": "nnGIwGHiXHGz",
        "outputId": "e6096cb9-9a4e-4d7d-af3d-75ad30f2a36c"
      },
      "outputs": [
        {
          "data": {
            "text/plain": [
              "array([ 1,  7,  3,  4,  5,  6, 17])"
            ]
          },
          "execution_count": 28,
          "metadata": {},
          "output_type": "execute_result"
        }
      ],
      "source": [
        "np.append(A,17) #adding a value (17) at the end of array A"
      ]
    },
    {
      "cell_type": "code",
      "execution_count": null,
      "metadata": {
        "id": "QaVjt3swXHGz",
        "outputId": "6fcd937f-f6df-4ccd-a5fb-d545cd6f8196"
      },
      "outputs": [
        {
          "data": {
            "text/plain": [
              "array([17,  1,  7,  3,  4,  5,  6])"
            ]
          },
          "execution_count": 29,
          "metadata": {},
          "output_type": "execute_result"
        }
      ],
      "source": [
        "np.append(17,A) #adding a value (17) at the beginning of array A"
      ]
    },
    {
      "cell_type": "code",
      "execution_count": null,
      "metadata": {
        "id": "OTo-sypjXHGz",
        "outputId": "d535ef1f-09f3-4eec-f00c-ce0241c5c59a"
      },
      "outputs": [
        {
          "data": {
            "text/plain": [
              "array([ 1,  7,  3,  4,  5,  6, 10])"
            ]
          },
          "execution_count": 30,
          "metadata": {},
          "output_type": "execute_result"
        }
      ],
      "source": [
        "np.append(C,10) #appending an element to a (4,2) array. This returns a 1-dimensional array"
      ]
    },
    {
      "cell_type": "markdown",
      "metadata": {
        "id": "j_Sb6C-4XHG0"
      },
      "source": [
        "### Indexing and Slicing"
      ]
    },
    {
      "cell_type": "markdown",
      "metadata": {
        "id": "7KB-rD63XHG0"
      },
      "source": [
        "Indexing refers to the process of assigning indinces or positions of an elemnt in the array. Slicing is taking out a desired portion or subarray of the array. The basic slice syntax is $i:j:k$ where $i$ is the starting index, $j$ is the stopping index, and $k$ is the step ($k≠0$). The starting index is zero and the end index is $n−1$ for an n-dimensional array."
      ]
    },
    {
      "cell_type": "code",
      "execution_count": null,
      "metadata": {
        "id": "Cs0xoJW5XHG0"
      },
      "outputs": [],
      "source": [
        "A = np.array([(2,4,5,6),(7,10,23,13),(45,0,23,5)])"
      ]
    },
    {
      "cell_type": "code",
      "execution_count": null,
      "metadata": {
        "id": "MIs_wrLHXHG1",
        "outputId": "ea58390f-d9d2-491f-d4f2-281105c991f4"
      },
      "outputs": [
        {
          "data": {
            "text/plain": [
              "array([2, 4, 5, 6])"
            ]
          },
          "execution_count": 32,
          "metadata": {},
          "output_type": "execute_result"
        }
      ],
      "source": [
        "A[0] # returns the first row of the array"
      ]
    },
    {
      "cell_type": "code",
      "execution_count": null,
      "metadata": {
        "id": "BIW-wIDBXHG1",
        "outputId": "b42c6f04-ac72-4cb9-f2a7-3f127f89f411"
      },
      "outputs": [
        {
          "data": {
            "text/plain": [
              "array([2, 4, 5, 6])"
            ]
          },
          "execution_count": 33,
          "metadata": {},
          "output_type": "execute_result"
        }
      ],
      "source": [
        "A[0,:] #returns the first row of the array"
      ]
    },
    {
      "cell_type": "code",
      "execution_count": null,
      "metadata": {
        "id": "1StnaOJJXHG1",
        "outputId": "64d49c15-be64-466b-b06e-433d9a3c4d3f"
      },
      "outputs": [
        {
          "data": {
            "text/plain": [
              "array([ 4, 10,  0])"
            ]
          },
          "execution_count": 34,
          "metadata": {},
          "output_type": "execute_result"
        }
      ],
      "source": [
        "A[:,1] #returns the second column of the array"
      ]
    },
    {
      "cell_type": "code",
      "execution_count": null,
      "metadata": {
        "id": "GAqViBPUXHG2",
        "outputId": "e539b845-99d4-4f3c-f4bc-201a4eddbb17"
      },
      "outputs": [
        {
          "data": {
            "text/plain": [
              "array([ 6, 13,  5])"
            ]
          },
          "execution_count": 35,
          "metadata": {},
          "output_type": "execute_result"
        }
      ],
      "source": [
        "A[:,-1] #returns the last column of the array"
      ]
    },
    {
      "cell_type": "code",
      "execution_count": null,
      "metadata": {
        "id": "bN77fv_lXHG2",
        "outputId": "6dafb425-4fbe-4cfb-d5b3-c6e05968c0da"
      },
      "outputs": [
        {
          "data": {
            "text/plain": [
              "2"
            ]
          },
          "execution_count": 36,
          "metadata": {},
          "output_type": "execute_result"
        }
      ],
      "source": [
        "A[0,0] #returns the first element of the array"
      ]
    },
    {
      "cell_type": "code",
      "execution_count": null,
      "metadata": {
        "id": "tikUC0ZxXHG2",
        "outputId": "b481147e-f5b3-4d18-83a4-067660d653c8"
      },
      "outputs": [
        {
          "data": {
            "text/plain": [
              "array([[ 4,  5],\n",
              "       [10, 23]])"
            ]
          },
          "execution_count": 37,
          "metadata": {},
          "output_type": "execute_result"
        }
      ],
      "source": [
        "A[0:2,1:3] # returns subarray ranging from first to second row and second to third column  "
      ]
    },
    {
      "cell_type": "markdown",
      "metadata": {
        "id": "vtMLe1y0XHG2"
      },
      "source": [
        "The dimension of the array can be increased by using new axis."
      ]
    },
    {
      "cell_type": "code",
      "execution_count": null,
      "metadata": {
        "id": "A_ybKrZMXHG3",
        "outputId": "592b34ed-ae70-4901-8e0e-444234df286b"
      },
      "outputs": [
        {
          "data": {
            "text/plain": [
              "((1, 3, 4), (3, 1, 4))"
            ]
          },
          "execution_count": 38,
          "metadata": {},
          "output_type": "execute_result"
        }
      ],
      "source": [
        "a = A[np.newaxis,:]\n",
        "b = A[:,np.newaxis]\n",
        "a.shape, b.shape"
      ]
    },
    {
      "cell_type": "markdown",
      "metadata": {
        "id": "kkIlw6JjXHG3"
      },
      "source": [
        "### Statistical Functions"
      ]
    },
    {
      "cell_type": "code",
      "execution_count": null,
      "metadata": {
        "id": "SkjKlpQ7XHG3",
        "outputId": "3f0df614-4edc-43eb-9164-7b2e4273b586"
      },
      "outputs": [
        {
          "data": {
            "text/plain": [
              "11.916666666666666"
            ]
          },
          "execution_count": 39,
          "metadata": {},
          "output_type": "execute_result"
        }
      ],
      "source": [
        "np.average(A) #returns the average value"
      ]
    },
    {
      "cell_type": "code",
      "execution_count": null,
      "metadata": {
        "id": "uNoayeRMXHG3",
        "outputId": "782ba497-8408-465d-8419-f2a4c4208200"
      },
      "outputs": [
        {
          "data": {
            "text/plain": [
              "11.916666666666666"
            ]
          },
          "execution_count": 40,
          "metadata": {},
          "output_type": "execute_result"
        }
      ],
      "source": [
        "np.mean(A) #returns the mean value"
      ]
    },
    {
      "cell_type": "code",
      "execution_count": null,
      "metadata": {
        "id": "ASra_xFiXHG4",
        "outputId": "f700ba64-571a-4810-e3eb-3af7d22c6c01"
      },
      "outputs": [
        {
          "data": {
            "text/plain": [
              "6.5"
            ]
          },
          "execution_count": 41,
          "metadata": {},
          "output_type": "execute_result"
        }
      ],
      "source": [
        "np.median(A) #returns the median"
      ]
    },
    {
      "cell_type": "code",
      "execution_count": null,
      "metadata": {
        "id": "pnqr2WXWXHG4",
        "outputId": "33b2c377-a3b4-4a62-ac53-b0e3c2aa92a2"
      },
      "outputs": [
        {
          "data": {
            "text/plain": [
              "150.24305555555557"
            ]
          },
          "execution_count": 42,
          "metadata": {},
          "output_type": "execute_result"
        }
      ],
      "source": [
        "np.var(A) # returns the variance"
      ]
    },
    {
      "cell_type": "code",
      "execution_count": null,
      "metadata": {
        "id": "5MtZktf-XHG4",
        "outputId": "c43b9427-a765-4128-aae1-a63fce0b630e"
      },
      "outputs": [
        {
          "data": {
            "text/plain": [
              "12.25736739906068"
            ]
          },
          "execution_count": 43,
          "metadata": {},
          "output_type": "execute_result"
        }
      ],
      "source": [
        "np.std(A) #returns the standard deviation"
      ]
    },
    {
      "cell_type": "code",
      "execution_count": null,
      "metadata": {
        "id": "lCes49CmXHG4",
        "outputId": "3346d47c-6f7b-4e58-b5a1-610b58ace726"
      },
      "outputs": [
        {
          "data": {
            "text/plain": [
              "array([[  2.91666667,   7.25      , -25.08333333],\n",
              "       [  7.25      ,  48.25      , -19.41666667],\n",
              "       [-25.08333333, -19.41666667, 415.58333333]])"
            ]
          },
          "execution_count": 44,
          "metadata": {},
          "output_type": "execute_result"
        }
      ],
      "source": [
        "np.cov(A) #returns the covariance"
      ]
    },
    {
      "cell_type": "markdown",
      "metadata": {
        "id": "9d5pQv9fXHG5"
      },
      "source": [
        "### Linear Algebra Functions"
      ]
    },
    {
      "cell_type": "code",
      "execution_count": null,
      "metadata": {
        "id": "UNuSNOKSXHG5"
      },
      "outputs": [],
      "source": [
        "a = np.array([(2,3),(4,5)])\n",
        "b = np.array([(7,1),(3,9)])"
      ]
    },
    {
      "cell_type": "code",
      "execution_count": null,
      "metadata": {
        "id": "NzFS4xPRXHG5",
        "outputId": "bf11799d-4923-40fd-f8a5-2b34ca53d13d"
      },
      "outputs": [
        {
          "data": {
            "text/plain": [
              "array([[17, 33],\n",
              "       [33, 57]])"
            ]
          },
          "execution_count": 46,
          "metadata": {},
          "output_type": "execute_result"
        }
      ],
      "source": [
        "np.inner(a,b) #returns the inner product of two arrays"
      ]
    },
    {
      "cell_type": "code",
      "execution_count": null,
      "metadata": {
        "id": "8z35nUWmXHG6",
        "outputId": "e22ac214-1471-4b76-d7e7-aa0feec51dff"
      },
      "outputs": [
        {
          "data": {
            "text/plain": [
              "array([[14,  2, 21,  3],\n",
              "       [ 6, 18,  9, 27],\n",
              "       [28,  4, 35,  5],\n",
              "       [12, 36, 15, 45]])"
            ]
          },
          "execution_count": 47,
          "metadata": {},
          "output_type": "execute_result"
        }
      ],
      "source": [
        "np.kron(a,b) #Kronecker product of two array"
      ]
    },
    {
      "cell_type": "code",
      "execution_count": null,
      "metadata": {
        "id": "Radu4Kv6XHG6",
        "outputId": "adb4a1dd-a1bc-4e4d-f432-873a98f6d7b7"
      },
      "outputs": [
        {
          "data": {
            "text/plain": [
              "(array([-0.27491722,  7.27491722]), array([[-0.79681209, -0.49436913],\n",
              "        [ 0.60422718, -0.86925207]]))"
            ]
          },
          "execution_count": 48,
          "metadata": {},
          "output_type": "execute_result"
        }
      ],
      "source": [
        "np.linalg.eig(a) #returns the eingenvalues and right eigenvectors of a square array"
      ]
    },
    {
      "cell_type": "code",
      "execution_count": null,
      "metadata": {
        "id": "1568aZQMXHG6",
        "outputId": "9f40d955-bc3d-4f54-e53f-1fcad1c32dc9"
      },
      "outputs": [
        {
          "data": {
            "text/plain": [
              "(array([-0.77200187,  7.77200187]), array([[-0.82192562,  0.56959484],\n",
              "        [ 0.56959484,  0.82192562]]))"
            ]
          },
          "execution_count": 49,
          "metadata": {},
          "output_type": "execute_result"
        }
      ],
      "source": [
        "np.linalg.eigh(a) #returns the eigenvalues and eigenvectors of a Hermitian or symmetric matrix"
      ]
    },
    {
      "cell_type": "code",
      "execution_count": null,
      "metadata": {
        "id": "XtegsQBVXHG6",
        "outputId": "933c0325-2c64-4514-9e6d-453b5e3c0cb9"
      },
      "outputs": [
        {
          "data": {
            "text/plain": [
              "array([-0.27491722,  7.27491722])"
            ]
          },
          "execution_count": 50,
          "metadata": {},
          "output_type": "execute_result"
        }
      ],
      "source": [
        "np.linalg.eigvals(a) #returns the eigenvalues of a matrix"
      ]
    },
    {
      "cell_type": "code",
      "execution_count": null,
      "metadata": {
        "id": "7_FvMQWMXHG7",
        "outputId": "834e8a3f-039e-4c17-9c50-419d619ca24f"
      },
      "outputs": [
        {
          "data": {
            "text/plain": [
              "array([-0.77200187,  7.77200187])"
            ]
          },
          "execution_count": 51,
          "metadata": {},
          "output_type": "execute_result"
        }
      ],
      "source": [
        "np.linalg.eigvalsh(a) #returns the eigenvalues of a Hermitian or symmetric matrix"
      ]
    },
    {
      "cell_type": "code",
      "execution_count": null,
      "metadata": {
        "id": "XJqI1mLkXHG7",
        "outputId": "82aa3394-03b0-4fda-bf18-41069179edf7"
      },
      "outputs": [
        {
          "data": {
            "text/plain": [
              "-2.0"
            ]
          },
          "execution_count": 52,
          "metadata": {},
          "output_type": "execute_result"
        }
      ],
      "source": [
        "np.linalg.det(a) #computes the determinant of the matrix"
      ]
    },
    {
      "cell_type": "code",
      "execution_count": null,
      "metadata": {
        "id": "sZTdZ9uvXHG7",
        "outputId": "79c740a7-965c-469f-d199-479db165370b"
      },
      "outputs": [
        {
          "data": {
            "text/plain": [
              "7"
            ]
          },
          "execution_count": 53,
          "metadata": {},
          "output_type": "execute_result"
        }
      ],
      "source": [
        "np.trace(a) #returns the trace of the matrix"
      ]
    },
    {
      "cell_type": "code",
      "execution_count": null,
      "metadata": {
        "id": "8uekt_DyXHG8",
        "outputId": "bf67a5fe-b3b7-4c32-cac3-4631673e30d5"
      },
      "outputs": [
        {
          "data": {
            "text/plain": [
              "array([[-2.5,  1.5],\n",
              "       [ 2. , -1. ]])"
            ]
          },
          "execution_count": 54,
          "metadata": {},
          "output_type": "execute_result"
        }
      ],
      "source": [
        "np.linalg.inv(a) #returns the inverse of the matrix"
      ]
    },
    {
      "cell_type": "markdown",
      "metadata": {
        "id": "v9htE4cwXHG8"
      },
      "source": [
        "### Other Functions"
      ]
    },
    {
      "cell_type": "code",
      "execution_count": null,
      "metadata": {
        "id": "fN4AgfksXHG8",
        "outputId": "61e9ecbb-60fa-4cd1-9174-927c5ff2988d"
      },
      "outputs": [
        {
          "data": {
            "text/plain": [
              "array([3, 6, 3, 1, 7, 4, 2, 8])"
            ]
          },
          "execution_count": 55,
          "metadata": {},
          "output_type": "execute_result"
        }
      ],
      "source": [
        "A = np.array([3,6,3,1,7,4,2,8])\n",
        "np.copy(A) # returns a copy of the array"
      ]
    },
    {
      "cell_type": "code",
      "execution_count": null,
      "metadata": {
        "id": "sNO1Uh8qXHG9",
        "outputId": "24e70a8f-98d8-4fc4-bf20-c072c215ff02"
      },
      "outputs": [
        {
          "data": {
            "text/plain": [
              "array([1, 2, 3, 3, 4, 6, 7, 8])"
            ]
          },
          "execution_count": 56,
          "metadata": {},
          "output_type": "execute_result"
        }
      ],
      "source": [
        "np.sort(A) # sorting the array in ascending order"
      ]
    },
    {
      "cell_type": "code",
      "execution_count": null,
      "metadata": {
        "id": "Z-hgbe4YXHG-",
        "outputId": "245940f3-349d-4a7d-d405-522feb7948ae"
      },
      "outputs": [
        {
          "data": {
            "text/plain": [
              "array([8, 7, 6, 4, 3, 3, 2, 1])"
            ]
          },
          "execution_count": 57,
          "metadata": {},
          "output_type": "execute_result"
        }
      ],
      "source": [
        "np.sort(A)[::-1] # sorting the array in descending order"
      ]
    },
    {
      "cell_type": "code",
      "execution_count": null,
      "metadata": {
        "id": "z521KMeqXHG-",
        "outputId": "2cad5662-3820-48e3-b259-a1902b94e871"
      },
      "outputs": [
        {
          "data": {
            "text/plain": [
              "array([3, 6, 0, 2, 5, 1, 4, 7])"
            ]
          },
          "execution_count": 58,
          "metadata": {},
          "output_type": "execute_result"
        }
      ],
      "source": [
        "np.argsort(A) #returns the indices that would sort an array."
      ]
    },
    {
      "cell_type": "code",
      "execution_count": null,
      "metadata": {
        "id": "gCZMUyYtXHG-",
        "outputId": "e79fa93c-0aeb-43a1-820c-52ccb15ca63b"
      },
      "outputs": [
        {
          "data": {
            "text/plain": [
              "1"
            ]
          },
          "execution_count": 59,
          "metadata": {},
          "output_type": "execute_result"
        }
      ],
      "source": [
        "np.min(A) #returns the maximum element"
      ]
    },
    {
      "cell_type": "code",
      "execution_count": null,
      "metadata": {
        "id": "cYoX2SEEXHG_",
        "outputId": "26b4dad2-c036-487d-eb36-aacbf1ed27a4"
      },
      "outputs": [
        {
          "data": {
            "text/plain": [
              "8"
            ]
          },
          "execution_count": 60,
          "metadata": {},
          "output_type": "execute_result"
        }
      ],
      "source": [
        "np.max(A) #returns the maximum element"
      ]
    },
    {
      "cell_type": "code",
      "execution_count": null,
      "metadata": {
        "id": "_9D0qvhWXHG_",
        "outputId": "264d298f-d963-4902-9b1d-4e19be44a4eb"
      },
      "outputs": [
        {
          "data": {
            "text/plain": [
              "7"
            ]
          },
          "execution_count": 61,
          "metadata": {},
          "output_type": "execute_result"
        }
      ],
      "source": [
        "np.argmax(A) #returns the index of the maximum element"
      ]
    },
    {
      "cell_type": "code",
      "execution_count": null,
      "metadata": {
        "id": "bPIxFMhTXHHA",
        "outputId": "ff33d466-3ecc-4e0a-c9aa-7b68089ba213"
      },
      "outputs": [
        {
          "data": {
            "text/plain": [
              "array([[1],\n",
              "       [4],\n",
              "       [5],\n",
              "       [7]])"
            ]
          },
          "execution_count": 62,
          "metadata": {},
          "output_type": "execute_result"
        }
      ],
      "source": [
        "np.argwhere(A>3) #returns all the indices whose values are greater than 3 "
      ]
    },
    {
      "cell_type": "code",
      "execution_count": null,
      "metadata": {
        "id": "_mRklsAIXHHA",
        "outputId": "74ad4d16-85a3-4ab8-809b-670c47eba805"
      },
      "outputs": [
        {
          "data": {
            "text/plain": [
              "matrix([[3, 6, 3, 1, 7, 4, 2, 8]])"
            ]
          },
          "execution_count": 63,
          "metadata": {},
          "output_type": "execute_result"
        }
      ],
      "source": [
        "np.mat(A) #returns matrix format of the array"
      ]
    },
    {
      "cell_type": "code",
      "execution_count": null,
      "metadata": {
        "id": "to3uoqhwXHHB",
        "outputId": "ab93b4e9-90bc-440a-b2cb-fe3c870fecd5"
      },
      "outputs": [
        {
          "data": {
            "text/plain": [
              "34"
            ]
          },
          "execution_count": 64,
          "metadata": {},
          "output_type": "execute_result"
        }
      ],
      "source": [
        "np.sum(A) #returns the sum of all the elements"
      ]
    },
    {
      "cell_type": "code",
      "execution_count": null,
      "metadata": {
        "id": "Q162zAmJXHHC",
        "outputId": "4f504ef4-8c4b-4849-b883-ade1a4bdd77a"
      },
      "outputs": [
        {
          "data": {
            "text/plain": [
              "array([ 3,  9, 12, 13, 20, 24, 26, 34])"
            ]
          },
          "execution_count": 65,
          "metadata": {},
          "output_type": "execute_result"
        }
      ],
      "source": [
        "np.cumsum(A) #returns the sum of all the elements"
      ]
    },
    {
      "cell_type": "code",
      "execution_count": null,
      "metadata": {
        "id": "7r43gfb5XHHC",
        "outputId": "8eee20e7-1113-491f-b5e0-6e291fa8a13e"
      },
      "outputs": [
        {
          "data": {
            "text/plain": [
              "24192"
            ]
          },
          "execution_count": 66,
          "metadata": {},
          "output_type": "execute_result"
        }
      ],
      "source": [
        "np.prod(A) #returns the product of all the elements"
      ]
    },
    {
      "cell_type": "markdown",
      "metadata": {
        "id": "XnjASU33XHHE"
      },
      "source": [
        "# Matplotlib Pyplot- 2D Plotting"
      ]
    },
    {
      "cell_type": "markdown",
      "metadata": {
        "id": "SMrEjhJZXHHF"
      },
      "source": [
        "Matplotlib is a python plotting library with excellent 2D and 3D graphics."
      ]
    },
    {
      "cell_type": "markdown",
      "metadata": {
        "id": "DTjJ_8tpXHHF"
      },
      "source": [
        "We need to import matplotlib library to be able to access the library."
      ]
    },
    {
      "cell_type": "code",
      "execution_count": null,
      "metadata": {
        "id": "QBy5fDziXHHF"
      },
      "outputs": [],
      "source": [
        "%matplotlib inline\n",
        "import matplotlib.pyplot as plt"
      ]
    },
    {
      "cell_type": "markdown",
      "metadata": {
        "id": "qH9DV1NCXHHF"
      },
      "source": [
        "## Simple Plots"
      ]
    },
    {
      "cell_type": "code",
      "execution_count": null,
      "metadata": {
        "id": "QeHVoQCrXHHG",
        "outputId": "67babc65-e6b1-46e6-ecd9-0ddb25f439e6"
      },
      "outputs": [
        {
          "data": {
            "image/png": "[encoded data removed]",
            "text/plain": [
              "<matplotlib.figure.Figure at 0x7fadf8843d90>"
            ]
          },
          "metadata": {},
          "output_type": "display_data"
        }
      ],
      "source": [
        "x = np.linspace(0,3,100)\n",
        "y = np.sin(x)\n",
        "plt.xlabel('x')\n",
        "plt.ylabel('sin x')\n",
        "plt.plot(x,y)\n",
        "plt.show()"
      ]
    },
    {
      "cell_type": "markdown",
      "metadata": {
        "id": "9p_zaCp9XHHG"
      },
      "source": [
        "The sin curve can be enhanced in various fashion. By default, the color is blue and the marker is a straight line. The basic in-built colors in matplotlib are: b-blue, g-green, r-red, c-cyan, m-magenta, y-yellow, k-black, w-white. For more information, visit http://matplotlib.org/api/colors_api.html."
      ]
    },
    {
      "cell_type": "code",
      "execution_count": null,
      "metadata": {
        "id": "stknj6VXXHHG",
        "outputId": "ca9c90b3-743a-41d7-913e-cc1c7ad3c9aa"
      },
      "outputs": [
        {
          "data": {
            "image/png": "[encoded data removed]",
            "text/plain": [
              "<matplotlib.figure.Figure at 0x7fadf8843b90>"
            ]
          },
          "metadata": {},
          "output_type": "display_data"
        }
      ],
      "source": [
        "# Comparing the distance covered by Mark,and Sam over an interval of time\n",
        "time = np.arange(0,50,2)\n",
        "dMark = np.array([0,20,40,59,76,93,109,125,139,152,162,172,181,189,197,205,213,220,227,233,239,243,247,251,253])\n",
        "dSam = np.array([0,25,49,71,91,110,129,150,169,188,205,222,237,249,261,271,281,290,298,306,313,320,325,329,331])\n",
        "plt.plot(time,dMark,'b*',label='Mark')\n",
        "plt.plot(time,dSam,'r*',label='Sam')\n",
        "plt.xlabel('Time in minutes')\n",
        "plt.ylabel('Distance covered in metres')\n",
        "plt.legend(loc='upper left')\n",
        "plt.xlim(0,50)\n",
        "plt.ylim(0,350)\n",
        "plt.show()"
      ]
    },
    {
      "cell_type": "markdown",
      "metadata": {
        "id": "v0gHDoa4XHHH"
      },
      "source": [
        "## Scatter Plots"
      ]
    },
    {
      "cell_type": "code",
      "execution_count": null,
      "metadata": {
        "id": "m75goGmQXHHH",
        "outputId": "c2f6f35e-1bda-4201-bebd-a41f6dc45e88"
      },
      "outputs": [
        {
          "name": "stderr",
          "output_type": "stream",
          "text": [
            "/usr/lib/pymodules/python2.7/matplotlib/collections.py:548: FutureWarning: elementwise comparison failed; returning scalar instead, but in the future will perform elementwise comparison\n",
            "  if self._edgecolors == 'face':\n"
          ]
        },
        {
          "data": {
            "image/png": "[encoded data removed]",
            "text/plain": [
              "<matplotlib.figure.Figure at 0x7fadf8565590>"
            ]
          },
          "metadata": {},
          "output_type": "display_data"
        }
      ],
      "source": [
        "# Making a scatter plot from random distributions \n",
        "x = np.arange(20)\n",
        "y = np.random.rand(20)\n",
        "z = np.random.rand(20)\n",
        "plt.scatter(x,y,s=50,facecolor='b',edgecolor='k',alpha=0.5,marker='d',label='Battlefield1')\n",
        "plt.scatter(x,z,s=120,facecolor='r',edgecolor='k',alpha=0.3,marker='d',label='Battlefield2')\n",
        "plt.legend(loc='upper left')\n",
        "plt.ylim(-0.2,1.2)\n",
        "plt.show()"
      ]
    },
    {
      "cell_type": "code",
      "execution_count": null,
      "metadata": {
        "id": "I-3ptCv6XHHI",
        "outputId": "94ae8db8-a4cd-4dff-bdb8-a6361d02fc97"
      },
      "outputs": [
        {
          "data": {
            "image/png": "[encoded data removed]",
            "text/plain": [
              "<matplotlib.figure.Figure at 0x7fadf83a7b10>"
            ]
          },
          "metadata": {},
          "output_type": "display_data"
        }
      ],
      "source": [
        "N = 10\n",
        "data = np.random.random((10,4))\n",
        "labels = ['{0}'.format(i) for i in range(N)]\n",
        "plt.subplots_adjust(bottom = 0.1)\n",
        "plt.scatter(\n",
        "    data[:, 0], data[:, 1], marker = 'o', c = data[:, 2], s = data[:, 3]*1500,\n",
        "    cmap = plt.get_cmap('cool'))\n",
        "\n",
        "for label, x, y in zip(labels, data[:, 0], data[:, 1]):\n",
        "    plt.annotate(label, xy = (x, y), xytext = (-10, 10),\n",
        "        textcoords = 'offset points', ha = 'right', va = 'bottom',\n",
        "        bbox=dict(boxstyle='round,pad=0.3',fc='red', alpha=0.4),arrowprops = dict(arrowstyle = '->', connectionstyle = 'arc3,rad=0'))\n",
        "    \n",
        "plt.show()"
      ]
    },
    {
      "cell_type": "markdown",
      "metadata": {
        "id": "HMFV3Z3IXHHI"
      },
      "source": [
        "## Histograms"
      ]
    },
    {
      "cell_type": "code",
      "execution_count": null,
      "metadata": {
        "id": "TpZfql1SXHHI",
        "outputId": "b02938ad-d0f5-4c3d-c1fa-8f464e5d7b74"
      },
      "outputs": [
        {
          "data": {
            "image/png": "[encoded data removed]",
            "text/plain": [
              "<matplotlib.figure.Figure at 0x7fadf8853790>"
            ]
          },
          "metadata": {},
          "output_type": "display_data"
        }
      ],
      "source": [
        "from numpy.random import normal,poisson,uniform\n",
        "f, ax = plt.subplots(3)\n",
        "gaussian_numbers = normal(size=1000)\n",
        "poisson_numbers = poisson(4,1000)\n",
        "uniform_numbers = uniform(low=-2, high=2,size=1000)\n",
        "ax[0].hist(gaussian_numbers,bins=50,facecolor='b',alpha=0.7)\n",
        "ax[1].hist(poisson_numbers,bins=50,facecolor='g',alpha=0.7)\n",
        "ax[2].hist(uniform_numbers,bins=50,facecolor='r',alpha=0.7)\n",
        "ax[0].set_title(\"Gaussian Histogram\")\n",
        "ax[1].set_title(\"Poisson Histogram\")\n",
        "ax[2].set_title(\"Uniform Histogram\")\n",
        "ax[0].set_ylabel(\"Frequency\")\n",
        "ax[1].set_ylabel(\"Frequency\")\n",
        "ax[2].set_ylabel(\"Frequency\")\n",
        "plt.tight_layout()\n",
        "plt.show()"
      ]
    },
    {
      "cell_type": "markdown",
      "metadata": {
        "id": "wPt8KEBSXHHJ"
      },
      "source": [
        "When we increase the value for lambda in the poisson distribution, the histrogram approaches the shape of the gaussion. Give it a try!"
      ]
    },
    {
      "cell_type": "markdown",
      "metadata": {
        "id": "lqUTOVLKXHHJ"
      },
      "source": [
        "Now let us merge the gaussian and uniform distribution since their values lie in the same range."
      ]
    },
    {
      "cell_type": "code",
      "execution_count": null,
      "metadata": {
        "id": "3i2JOCrxXHHK",
        "outputId": "57962509-170c-4221-b92a-bec62cc802bb"
      },
      "outputs": [
        {
          "data": {
            "image/png": "[encoded data removed]",
            "text/plain": [
              "<matplotlib.figure.Figure at 0x7fadf823ed50>"
            ]
          },
          "metadata": {},
          "output_type": "display_data"
        }
      ],
      "source": [
        "plt.hist(gaussian_numbers,bins=20,facecolor='b',alpha=0.7,histtype='stepfilled', normed=True,label='Gaussian')\n",
        "plt.hist(uniform_numbers,bins=20,facecolor='r',alpha=0.5,histtype='stepfilled', normed=True,label='Uniform')\n",
        "plt.title(\"Gaussian/Uniform Histogram\")\n",
        "plt.xlabel(\"Value\")\n",
        "plt.ylabel(\"Frequency\")\n",
        "plt.legend()\n",
        "plt.show()"
      ]
    },
    {
      "cell_type": "markdown",
      "metadata": {
        "id": "Or_kgKn-XHHK"
      },
      "source": [
        "## Bar Charts"
      ]
    },
    {
      "cell_type": "code",
      "execution_count": null,
      "metadata": {
        "id": "OcEsVSlyXHHL",
        "outputId": "065ad458-71cb-4d18-9bf0-2a58ad8406f3"
      },
      "outputs": [
        {
          "data": {
            "image/png": "[encoded data removed]",
            "text/plain": [
              "<matplotlib.figure.Figure at 0x7fadf83b2bd0>"
            ]
          },
          "metadata": {},
          "output_type": "display_data"
        }
      ],
      "source": [
        "# Showing the average percentage scores success for the past 5 years at Hudson Park Primary School by each gender\n",
        "MScores = [72.2,78.9,75.3,80,81.4]\n",
        "FScores = [77.2,80.9,78.1,84,86.2]\n",
        "MStd = [3,5,4,3,5]\n",
        "FStd = [5,4,3,6,4]\n",
        "ind = np.arange(5)\n",
        "year = ['2009','2010','2011','2012','2013','2014']\n",
        "plt.bar(ind,MScores,width=0.3,color='y',yerr=MStd,edgecolor='r',linewidth=2,label='Male')\n",
        "plt.bar(ind+0.3,FScores,width=0.3,color='c',yerr=FStd,edgecolor='r',linewidth=2,label='Female')\n",
        "plt.xticks(ind,year,rotation=45)\n",
        "plt.title(\"Average passing rate for past 5 years\")\n",
        "plt.ylabel(\"Percentage Success ($\\%$)\")\n",
        "plt.ylim(0,120)\n",
        "plt.legend()\n",
        "plt.show()"
      ]
    },
    {
      "cell_type": "markdown",
      "metadata": {
        "id": "umCL-3e-XHHL"
      },
      "source": [
        "# SciPy Module"
      ]
    },
    {
      "cell_type": "markdown",
      "metadata": {
        "id": "jq6UQcc_XHHO"
      },
      "source": [
        "SciPy is an extension of the Numpy package. It is collection of mathematical algorithms. Here we will have a look at the complex scipy functions that are not availble in the Numpy package. Similar to numpy, we need to import scipy."
      ]
    },
    {
      "cell_type": "code",
      "execution_count": null,
      "metadata": {
        "id": "AFYWgfLwXHHO"
      },
      "outputs": [],
      "source": [
        "import scipy"
      ]
    },
    {
      "cell_type": "markdown",
      "metadata": {
        "id": "ixTLXqjkXHHP"
      },
      "source": [
        "## Numerical Integration and ODEs"
      ]
    },
    {
      "cell_type": "markdown",
      "metadata": {
        "id": "W3862eLKXHHP"
      },
      "source": [
        "Suppose we want to compute the integral\n",
        "\\begin{equation}\n",
        "I = \\int_0^1 2e^{-2\\pi i t}~dx.\n",
        "\\end{equation}\n",
        "First, we need to import the function quad from a sub-module in scipy."
      ]
    },
    {
      "cell_type": "code",
      "execution_count": null,
      "metadata": {
        "id": "bQZ_HPMAXHHP",
        "outputId": "526e67df-2f58-4432-f349-f3f8b58ea16b"
      },
      "outputs": [
        {
          "name": "stderr",
          "output_type": "stream",
          "text": [
            "/usr/lib/python2.7/dist-packages/scipy/integrate/quadpack.py:319: ComplexWarning: Casting complex values to real discards the imaginary part\n",
            "  return _quadpack._qagse(func,a,b,args,full_output,epsabs,epsrel,limit)\n"
          ]
        },
        {
          "data": {
            "text/plain": [
              "(8.326672684688674e-17, 1.423398125192687e-14)"
            ]
          },
          "execution_count": 76,
          "metadata": {},
          "output_type": "execute_result"
        }
      ],
      "source": [
        "from scipy.integrate import quad\n",
        "quad(lambda t:2*np.exp(-2*1j*np.pi*t),0,1)"
      ]
    },
    {
      "cell_type": "markdown",
      "metadata": {
        "id": "wybiSp9YXHHP"
      },
      "source": [
        "The result is 8.326672684688674e-17 and the second value is the error associated with the computation."
      ]
    },
    {
      "cell_type": "markdown",
      "metadata": {
        "id": "N-BjiqbNXHHQ"
      },
      "source": [
        "Consider the following ordinary differential equation (ode):\n",
        "    \\begin{equation}\n",
        "    y = \\frac{dy}{dt}.\n",
        "    \\end{equation}\n",
        "The initial condition is 1 and the points over which the ode needs to be solved is 10."
      ]
    },
    {
      "cell_type": "code",
      "execution_count": null,
      "metadata": {
        "id": "z149HeK5XHHQ",
        "outputId": "5939b0c9-a487-487a-9bfc-b54075cd516f"
      },
      "outputs": [
        {
          "data": {
            "text/plain": [
              "array([[1.        ],\n",
              "       [1.11751906],\n",
              "       [1.24884886],\n",
              "       [1.39561243],\n",
              "       [1.55962349],\n",
              "       [1.742909  ],\n",
              "       [1.94773405],\n",
              "       [2.17663003],\n",
              "       [2.43242551],\n",
              "       [2.7182819 ]])"
            ]
          },
          "execution_count": 77,
          "metadata": {},
          "output_type": "execute_result"
        }
      ],
      "source": [
        "from scipy.integrate import odeint\n",
        "odeint(lambda y, t: y, 1, np.linspace(0,1,10))"
      ]
    },
    {
      "cell_type": "markdown",
      "metadata": {
        "id": "P9sxaGmmXHHQ"
      },
      "source": [
        "## Interpolation"
      ]
    },
    {
      "cell_type": "markdown",
      "metadata": {
        "id": "neVdwzNKXHHR"
      },
      "source": [
        "There are in-built functions in scipy that allow us to perform univariate and multivariate interpolation easily."
      ]
    },
    {
      "cell_type": "code",
      "execution_count": null,
      "metadata": {
        "id": "MUym1muhXHHR",
        "outputId": "aab035a9-e0dc-4f94-dee7-618ff7ffc83d"
      },
      "outputs": [
        {
          "data": {
            "image/png": "[encoded data removed]",
            "text/plain": [
              "<matplotlib.figure.Figure at 0x7fadf81bfdd0>"
            ]
          },
          "metadata": {},
          "output_type": "display_data"
        }
      ],
      "source": [
        "from scipy import interpolate\n",
        "x = np.arange(4, 20,)\n",
        "y = np.exp(-x/3.0)\n",
        "f = interpolate.interp1d(x, y) # interpolating a 1D function\n",
        "\n",
        "xnew = np.linspace(4,19,1000)\n",
        "plt.plot(x,y,'ro',label='data point')\n",
        "plt.plot(xnew,f(xnew),'g--',label='interpolated') # f(xnew) gives the interpolated points\n",
        "plt.legend()\n",
        "plt.show()\n"
      ]
    },
    {
      "cell_type": "markdown",
      "metadata": {
        "id": "D43WGYhIXHHS"
      },
      "source": [
        "Next, we are going to do a univariate spline interpolation. Spline interpolation is a special type of piecewise function which is continuous at the intervals and at the interpolating nodes."
      ]
    },
    {
      "cell_type": "code",
      "execution_count": null,
      "metadata": {
        "id": "Tqqz3fA0XHHS",
        "outputId": "ff70b633-f566-41f6-83a4-5066af49aaf4"
      },
      "outputs": [
        {
          "data": {
            "image/png": "[encoded data removed]",
            "text/plain": [
              "<matplotlib.figure.Figure at 0x7fadf7cb7990>"
            ]
          },
          "metadata": {},
          "output_type": "display_data"
        }
      ],
      "source": [
        "from scipy.interpolate import UnivariateSpline\n",
        "x = np.linspace(-4, 4, 100)\n",
        "y = np.sin(x**2) + np.random.randn(100)/10\n",
        "s = UnivariateSpline(x, y, s=1)\n",
        "xnew = np.linspace(-4, 4, 1000)\n",
        "plt.plot(x, y, '.',label='data points')\n",
        "plt.plot(xnew, s(xnew),'g',label='spline interpolated')\n",
        "plt.ylim(-1.5,2.0)\n",
        "plt.legend()\n",
        "plt.show()    "
      ]
    },
    {
      "cell_type": "markdown",
      "metadata": {
        "id": "KkUEX5NrXHHT"
      },
      "source": [
        "# Fast Fourier Transform (FFT)"
      ]
    },
    {
      "cell_type": "markdown",
      "metadata": {
        "id": "pGG3yXJOXHHV"
      },
      "source": [
        "A fast Fourier transform (FFT) is an algorithm to compute the discrete Fourier transform (DFT) and its inverse. The fft function in numpy computes the 1-dimensional fourier transform of n discrete points."
      ]
    },
    {
      "cell_type": "markdown",
      "metadata": {
        "id": "oIhi-r8tXHHV"
      },
      "source": [
        "Let us compute the Fourier of $f(t)=2cos(t)$.\n",
        "\\begin{equation}\n",
        "F(\\nu) = \\int_{-\\infty}^{\\infty} f(t)e^{-2 \\pi i t\\nu}dt\n",
        "\\end{equation}"
      ]
    },
    {
      "cell_type": "code",
      "execution_count": null,
      "metadata": {
        "id": "397J8JeoXHHV",
        "outputId": "07a844de-73c0-40d6-b232-9a920bdac86c"
      },
      "outputs": [
        {
          "data": {
            "image/png": "[encoded data removed]",
            "text/plain": [
              "<matplotlib.figure.Figure at 0x7fadf8386ed0>"
            ]
          },
          "metadata": {},
          "output_type": "display_data"
        }
      ],
      "source": [
        "t = np.arange(100)\n",
        "sp = np.fft.fft(np.cos(2*t))\n",
        "freq = np.fft.fftfreq(t.shape[0])\n",
        "plt.plot(freq, sp.real,label='real') # frequency bins\n",
        "plt.plot(freq,sp.imag,label='imaginary')\n",
        "plt.legend()\n",
        "plt.show()"
      ]
    },
    {
      "cell_type": "code",
      "execution_count": null,
      "metadata": {
        "id": "NG4xKqdCXHHW",
        "outputId": "7d80d237-7fbf-4c55-ea5d-662b71ade6f5"
      },
      "outputs": [
        {
          "data": {
            "text/plain": [
              "array([[24.+0.j,  0.+0.j,  0.+0.j,  0.+0.j],\n",
              "       [-8.+8.j,  0.+0.j,  0.+0.j,  0.+0.j],\n",
              "       [-8.+0.j,  0.+0.j,  0.+0.j,  0.+0.j],\n",
              "       [-8.-8.j,  0.+0.j,  0.+0.j,  0.+0.j]])"
            ]
          },
          "execution_count": 81,
          "metadata": {},
          "output_type": "execute_result"
        }
      ],
      "source": [
        "# 2-dimensional FFT\n",
        "a = np.mgrid[0:4, 0:4][0]\n",
        "np.fft.fft2(a)"
      ]
    },
    {
      "cell_type": "markdown",
      "metadata": {
        "id": "MiemyHQKXHHW"
      },
      "source": [
        "# Curve Fitting"
      ]
    },
    {
      "cell_type": "markdown",
      "metadata": {
        "id": "j5kPatHUXHHW"
      },
      "source": [
        "Curve fitting is very commom when dealing with astronomical data. The most popular fiiting algorithm is least squares, but we are going to get acquainted to other ways as well."
      ]
    },
    {
      "cell_type": "code",
      "execution_count": null,
      "metadata": {
        "id": "xdh_PmAQXHHX",
        "outputId": "3b33b3e7-b403-4bba-a910-35cb498f0ed8"
      },
      "outputs": [
        {
          "data": {
            "image/png": "[encoded data removed]",
            "text/plain": [
              "<matplotlib.figure.Figure at 0x7fadf7ebeb50>"
            ]
          },
          "metadata": {},
          "output_type": "display_data"
        }
      ],
      "source": [
        "x = np.arange(10)\n",
        "y = np.array([0.2,0.3,0.5,0.8,0.95,0.9,0.7,0.5,0.3,0.1])\n",
        "# constructing polynomial\n",
        "z = np.polyfit(x,y,3)\n",
        "p = np.poly1d(z)\n",
        "\n",
        "#generting new x's and y's\n",
        "xnew = np.linspace(x[0],x[-1],30)\n",
        "ynew = p(xnew)\n",
        "\n",
        "plt.plot(x,y,'go')\n",
        "plt.plot(xnew,ynew,'r-')\n",
        "plt.show()"
      ]
    },
    {
      "cell_type": "code",
      "execution_count": null,
      "metadata": {
        "id": "ZIEp5VERXHHX",
        "outputId": "99c115ff-2a83-4897-9ebb-6146a8d64c0e"
      },
      "outputs": [
        {
          "name": "stderr",
          "output_type": "stream",
          "text": [
            "/usr/local/lib/python2.7/dist-packages/ipykernel_launcher.py:6: FutureWarning: `rcond` parameter will change to the default of machine precision times ``max(M, N)`` where M and N are the input matrix dimensions.\n",
            "To use the future default and silence this warning we advise to pass `rcond=None`, to keep using the old, explicitly pass `rcond=-1`.\n",
            "  \n"
          ]
        },
        {
          "data": {
            "image/png": "[encoded data removed]",
            "text/plain": [
              "<matplotlib.figure.Figure at 0x7fadf8853050>"
            ]
          },
          "metadata": {},
          "output_type": "display_data"
        }
      ],
      "source": [
        "# using least square to fit a straight line\n",
        "x = np.arange(10)\n",
        "y = np.array([1.2,1.0,0.95,0.9,0.8,0.7,0.5,0.3,0.1,0.09])\n",
        "\n",
        "A = np.vstack([x, np.ones(len(x))]).T\n",
        "m, c = np.linalg.lstsq(A, y)[0]\n",
        "plt.plot(x,y,'bo')\n",
        "plt.plot(x,m*x+c,'r-')\n",
        "plt.show()"
      ]
    },
    {
      "cell_type": "markdown",
      "metadata": {
        "id": "q2oehg0XXHHX"
      },
      "source": [
        "Another way of fitting data is curve_fit found in scipy library."
      ]
    },
    {
      "cell_type": "code",
      "execution_count": null,
      "metadata": {
        "id": "8DCk7XWoXHHY",
        "outputId": "367e3b11-7924-4b31-826c-b132a164eecb"
      },
      "outputs": [
        {
          "data": {
            "image/png": "[encoded data removed]",
            "text/plain": [
              "<matplotlib.figure.Figure at 0x7fadf7b9de50>"
            ]
          },
          "metadata": {},
          "output_type": "display_data"
        }
      ],
      "source": [
        "from scipy.optimize import curve_fit\n",
        "\n",
        "# Defining the function to be fit to the data\n",
        "def fitFunc(x,m,c):\n",
        "    return m*x + c\n",
        "\n",
        "\n",
        "params, cov = curve_fit(fitFunc, x, y) # returns the fitting paramters\n",
        "\n",
        "plt.plot(x,y,'go')\n",
        "plt.plot(x,fitFunc(x,*params),'r-')\n",
        "plt.show()"
      ]
    },
    {
      "cell_type": "markdown",
      "metadata": {
        "id": "Di5NWKGOXHHZ"
      },
      "source": [
        "This cheat sheet walks us through the basics of numpy, scipy and matplotlib libraries. For more details, have a look at\n",
        "http://docs.scipy.org/doc ."
      ]
    },
    {
      "cell_type": "markdown",
      "metadata": {
        "id": "CBpuwvVCXHHZ"
      },
      "source": [
        "### COMPLETED! \n",
        "### NEXT: Functions declaration, and loops"
      ]
    },
    {
      "cell_type": "code",
      "execution_count": null,
      "metadata": {
        "id": "mAZEr9iZXHHZ"
      },
      "outputs": [],
      "source": []
    },
    {
      "cell_type": "code",
      "execution_count": null,
      "metadata": {
        "id": "gJCFXA08XHHa"
      },
      "outputs": [],
      "source": []
    },
    {
      "cell_type": "code",
      "execution_count": null,
      "metadata": {
        "id": "tOGhG2XIXHHa"
      },
      "outputs": [],
      "source": []
    }
  ],
  "metadata": {
    "kernelspec": {
      "display_name": "Python 2",
      "language": "python",
      "name": "python2"
    },
    "language_info": {
      "codemirror_mode": {
        "name": "ipython",
        "version": 2
      },
      "file_extension": ".py",
      "mimetype": "text/x-python",
      "name": "python",
      "nbconvert_exporter": "python",
      "pygments_lexer": "ipython2",
      "version": "2.7.6"
    },
    "colab": {
      "provenance": [],
      "include_colab_link": true
    }
  },
  "nbformat": 4,
  "nbformat_minor": 0
}