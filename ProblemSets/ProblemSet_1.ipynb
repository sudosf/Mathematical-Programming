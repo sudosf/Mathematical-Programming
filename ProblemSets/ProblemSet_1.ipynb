{
  "cells": [
    {
      "cell_type": "markdown",
      "metadata": {
        "id": "view-in-github",
        "colab_type": "text"
      },
      "source": [
        "<a href=\"https://colab.research.google.com/github/sudosf/Mathematical-Programming/blob/main/ProblemSets/ProblemSet_1.ipynb\" target=\"_parent\"><img src=\"https://colab.research.google.com/assets/colab-badge.svg\" alt=\"Open In Colab\"/></a>"
      ]
    },
    {
      "cell_type": "markdown",
      "metadata": {
        "id": "wiH60loRbIvU"
      },
      "source": [
        "### Lecturer: Marcel Atemkeng (m.atemkeng@ru.ac.za)\n",
        "\n",
        "# Problem Set 1 (25 pts), Due data: 06/02/2022"
      ]
    },
    {
      "cell_type": "markdown",
      "metadata": {
        "id": "XkG9qPLGbIvW"
      },
      "source": [
        "# Numerical approximation of an integral using four classical methods\n",
        "\n",
        "The goal is to find an approximation of an integral of the type:\n",
        "\n",
        "## $J= \\int_{a}^{b}f(x)dx$\n",
        "\n",
        "for a given function $f(x)$ defined as $f:[a, b] \\rightarrow \\mathbb{R}$ which is too complicated to determine the value of $J$ by solving analytically or by hand. It is also called quadrature, which refers to finding\n",
        "a square whose area is the same as the area under a curve, it is one of the classical topics of numerical\n",
        "analysis.\n"
      ]
    },
    {
      "cell_type": "markdown",
      "source": [],
      "metadata": {
        "id": "50FM2wf6bPeT"
      }
    },
    {
      "cell_type": "markdown",
      "metadata": {
        "id": "fQg4ytMVbIvX"
      },
      "source": [
        "## Exercise 1: The Midpoint Method\n",
        "\n",
        "The first step is to divide the interval $[a, b]$ into $N$ sub-intervals $[x_n, x_{n+1}]$  of same size $\\delta=\\frac{b-a}{n}$ with $x_n=a+n\\delta$. The second step is to consider that the function $f$ is constant in each of the sub-intervals $x_n, x_{n+1}$ and evaluate the approximation:\n",
        "\n",
        "## $J_n=\\int_{x_n}^{x_{n+1}}f(x)dx\\approx \\delta f(\\bar{x}_n)$\n",
        "\n",
        "where $\\bar{x}_n$ is an abitrary value choosen in the interval $x_n, x_{n+1}$. A choice of $\\bar{x}_n$ could be $\\bar{x}_n=x_n+\\alpha \\delta$, $\\alpha \\in [0,1]$. \n",
        "\n",
        "Finally the approximation of $j$ is given by the sum of all the $J_n$."
      ]
    },
    {
      "cell_type": "markdown",
      "metadata": {
        "id": "3u6p8GRDbIvX"
      },
      "source": [
        "1.) Choose a continuous function $f: [a, b] \\rightarrow \\mathbb{R}$ and define the corresponding function in Python (It is wise to choose a function $f$ whose integral can be easily calculated by hand)."
      ]
    },
    {
      "cell_type": "code",
      "execution_count": null,
      "metadata": {
        "id": "JfupNQ67bIvY"
      },
      "outputs": [],
      "source": []
    },
    {
      "cell_type": "markdown",
      "metadata": {
        "id": "-ZbDcipzbIvY"
      },
      "source": [
        "2.) Write a function call $point\\_left (f, a, b, N)$ that returns the approximation of the integrale $J$ with $\\bar{x}_n=x_n$ "
      ]
    },
    {
      "cell_type": "code",
      "execution_count": null,
      "metadata": {
        "id": "H7CKFmVQbIvZ"
      },
      "outputs": [],
      "source": []
    },
    {
      "cell_type": "markdown",
      "metadata": {
        "id": "nOZ3io_BbIvZ"
      },
      "source": [
        "3.) Write a function call $point\\_right (f, a, b, N)$ that returns the approximation of the integrale $J$ with $\\bar{x}_n=x_{n+1}$ "
      ]
    },
    {
      "cell_type": "code",
      "execution_count": null,
      "metadata": {
        "id": "fjNxp8aYbIvZ"
      },
      "outputs": [],
      "source": []
    },
    {
      "cell_type": "markdown",
      "metadata": {
        "id": "QvUHcUeobIvZ"
      },
      "source": [
        "4.) Modify the previous function so that it takes an optional parameter $\\alpha\\in [0,1]$"
      ]
    },
    {
      "cell_type": "code",
      "execution_count": null,
      "metadata": {
        "id": "9wqjBnuxbIva"
      },
      "outputs": [],
      "source": []
    },
    {
      "cell_type": "markdown",
      "metadata": {
        "id": "kuE3RaZbbIva"
      },
      "source": [
        "5.) for $\\alpha = \\frac{1}{2}$, Show that $J_n=(x_{n+1}-x_{n})f(\\frac{x_n+x_{n+1}}{2})$\n",
        "\n",
        "and that $J=\\sum_{i=0}^{N-1}(x_{i+1}-x_{i})f(\\frac{x_i+x_{i+1}}{2})$"
      ]
    },
    {
      "cell_type": "markdown",
      "metadata": {
        "id": "i-4MZDuEbIva"
      },
      "source": []
    },
    {
      "cell_type": "markdown",
      "metadata": {
        "id": "AqfAq4WnbIvb"
      },
      "source": [
        "6.) Write a function $midpoint(f,a,b,N,alpha=0.5)$ which graphically represents the approximation by the midpoint method of $J$."
      ]
    },
    {
      "cell_type": "code",
      "execution_count": null,
      "metadata": {
        "id": "VsM8xry4bIvb"
      },
      "outputs": [],
      "source": []
    },
    {
      "cell_type": "markdown",
      "metadata": {
        "id": "G3Xp6BAPbIvb"
      },
      "source": [
        "7.) Compare the output of the functions in 2), 3) and 6) for the same $N$."
      ]
    },
    {
      "cell_type": "code",
      "execution_count": null,
      "metadata": {
        "id": "R5Cdexr2bIvc"
      },
      "outputs": [],
      "source": []
    },
    {
      "cell_type": "markdown",
      "metadata": {
        "id": "qibL6inybIvc"
      },
      "source": [
        "## Exercise 2: Trapezoidal Method\n",
        "\n",
        "The simplest quadrature rule in wide use is the trapezoidal rule. Like many other methods, it has both a geometric and an analytic derivation. The idea of the geometric derivation is to approximate the area under the curve $f(x)$ from $x=a$ to $x=b$ by the area of the trapezoid bounded by the points $(a, 0), (b, 0), [a, f (a)]$, and $[b, f (b)]$. This gives:\n",
        "## $J = \\int_{a}^{b}f(x)dx\\approx \\frac{\\delta}{2}\\big(f(a)+f(b)\\big)$\n",
        "\n",
        "\n",
        "The analytic derivation is to interpolate $f(x)$ at $a$ and $b$ by a linear\n",
        "polynomial. \n",
        "\n",
        "We begin by dividing $[a, b]$ into $N$ equal intervals from the points $a = x0 < x1 <\\cdots< x_{n−1} <\n",
        "x_n = b$. Specifically, if $\\delta = (b − a)/N$ is the common length of the\n",
        "intervals, then $x_i = a + i\\delta$, $i = 0, 1,\\cdots,N$. Applying the trapezoidal\n",
        "rule to each interval $[x_{i−1}, x_i]$ gives the composite trapezoidal rule:\n",
        "\n",
        "## $J\\approx \\delta \\Bigg(\\frac{f(x_0)}{2} + f(x_1)+\\cdots+f(x_{n-1}) + \\frac{f(x_n)}{2}\\Bigg)$\n"
      ]
    },
    {
      "cell_type": "markdown",
      "metadata": {
        "id": "YZnLp5ylbIvc"
      },
      "source": [
        "1.) Write a python function $trapezoidal(f, a, b, N)$ that returns the approximation of the integral $J$ using the trapezoidal method. "
      ]
    },
    {
      "cell_type": "code",
      "execution_count": null,
      "metadata": {
        "id": "d82A297AbIvd"
      },
      "outputs": [],
      "source": []
    },
    {
      "cell_type": "markdown",
      "metadata": {
        "id": "aB4iVWsJbIvd"
      },
      "source": [
        "2.) Test $trapezoidal(f, a, b, N)$ for two functions $f$ on your choice (You should be able to solve $J$ analytically from the choice of $f$ you made)."
      ]
    },
    {
      "cell_type": "code",
      "execution_count": null,
      "metadata": {
        "id": "OQvwhv3dbIvd"
      },
      "outputs": [],
      "source": []
    },
    {
      "cell_type": "markdown",
      "metadata": {
        "id": "0j9oaZ7pbIve"
      },
      "source": [
        "3.) Determine the absolute errors given the analytic and the approximate solution. "
      ]
    },
    {
      "cell_type": "code",
      "execution_count": null,
      "metadata": {
        "id": "s6AO_tVJbIve"
      },
      "outputs": [],
      "source": []
    },
    {
      "cell_type": "markdown",
      "metadata": {
        "id": "ULIK2-qJbIve"
      },
      "source": [
        "4.) What are the necessary creteria to reduce the absolute error? "
      ]
    },
    {
      "cell_type": "markdown",
      "metadata": {
        "id": "hsvZE86rbIve"
      },
      "source": []
    },
    {
      "cell_type": "markdown",
      "metadata": {
        "id": "dWtKS629bIve"
      },
      "source": [
        "# Exercise  3: Monte-Carlo Method\n",
        "\n",
        "The Monte Carlo method is a probabilistic approach to approximate the value of an integral. The basic idea is that the integral $J$ can be seen as the expectation of a uniform random variable $X$ on the interval.\n",
        "\n",
        "## $J = \\int_{a}^{b}f(x)dx\\approx(b-a)\\mathbb{E}\\big(f(x)\\big)$\n",
        "\n",
        "By the law of large numbers this expectation can be approximated by the empirical average:\n",
        "\n",
        "## $J_N = \\frac{b-a}{N}\\sum_{i=0}^{N-1}f(x_i)$\n",
        "\n",
        "where the $x_i$  are randomly drawn in $[a, b]$ using uniform probability law."
      ]
    },
    {
      "cell_type": "markdown",
      "metadata": {
        "id": "evnBrkPybIvf"
      },
      "source": [
        "1.) Write a function $montecarlo(f, a, b, N)$ that determines an approximation of $J$ using the Monte Carlo method.\n",
        " (To generate a random vector, see the numpy.random submodule)"
      ]
    },
    {
      "cell_type": "code",
      "execution_count": null,
      "metadata": {
        "id": "PiGPZQxPbIvf"
      },
      "outputs": [],
      "source": []
    },
    {
      "cell_type": "markdown",
      "metadata": {
        "id": "-duUKPYSbIvf"
      },
      "source": [
        "2.) Modify the previous function, so that it also returns  the empirical variance:\n",
        "\n",
        "  ## $V_N = \\frac{(b-a)^2}{N}\\sum_{i=0}^{N-1}\\Big(f(x_i)-\\frac{J_N}{b-a}\\Big)^2$"
      ]
    },
    {
      "cell_type": "code",
      "execution_count": null,
      "metadata": {
        "id": "EKIsi-zybIvf"
      },
      "outputs": [],
      "source": []
    },
    {
      "cell_type": "markdown",
      "metadata": {
        "id": "Zc7u_WnabIvg"
      },
      "source": [
        "# Exercise 4: Simpson Method\n",
        "    \n",
        "More sophisticated quadrature rules can produce higher-order error terms. Even more popular than the trapezoidal method:\n",
        "\n",
        "### $J = \\int_{a}^{b}f(x)dx\\approx\\frac{(b-a)}{6}\\Big[f(a)+4f(\\frac{a+b}{2})+f(b)\\Big]$, i.e. $J$ is derived by interpolating $f(x)$ by a quadratic polynomial at $a$, $\\frac{a+b}{2}$ and $b$.\n",
        "\n",
        "Like the others methods, Simpson's method is usually applied to many short intervals:\n",
        "\n",
        "\n",
        "### $J_N = \\int_{a}^{b}f(x)dx\\approx \\frac{\\delta}{3}(f(x_0)+4f(x_1)+2f(x_2)+4f(x_3)+\\cdots +2f(x_{n-2})+4f(x_{n-1})+f(x_n))$\n"
      ]
    },
    {
      "cell_type": "markdown",
      "metadata": {
        "id": "0Db-uLirbIvg"
      },
      "source": [
        "1.) Write a $simpson(f, a, b, N)$ to calculate an approximation of $J$  with Simpson's method."
      ]
    },
    {
      "cell_type": "code",
      "execution_count": null,
      "metadata": {
        "id": "dV004liBbIvg"
      },
      "outputs": [],
      "source": []
    },
    {
      "cell_type": "markdown",
      "metadata": {
        "id": "ZWPSqomPbIvg"
      },
      "source": [
        "2.) Compare the accuracy of the midpoint, Trapezoidal, Monte-Carlo and Simpson using the same number of iteration $N$ and the function $f$."
      ]
    },
    {
      "cell_type": "code",
      "execution_count": null,
      "metadata": {
        "id": "QF-gOVVUbIvg"
      },
      "outputs": [],
      "source": []
    }
  ],
  "metadata": {
    "kernelspec": {
      "display_name": "Python 2",
      "language": "python",
      "name": "python2"
    },
    "language_info": {
      "codemirror_mode": {
        "name": "ipython",
        "version": 2
      },
      "file_extension": ".py",
      "mimetype": "text/x-python",
      "name": "python",
      "nbconvert_exporter": "python",
      "pygments_lexer": "ipython2",
      "version": "2.7.6"
    },
    "colab": {
      "provenance": [],
      "include_colab_link": true
    }
  },
  "nbformat": 4,
  "nbformat_minor": 0
}