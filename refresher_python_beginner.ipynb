{
  "cells": [
    {
      "cell_type": "markdown",
      "metadata": {
        "id": "view-in-github",
        "colab_type": "text"
      },
      "source": [
        "<a href=\"https://colab.research.google.com/github/sudosf/Mathematical-Programming/blob/main/refresher_python_beginner.ipynb\" target=\"_parent\"><img src=\"https://colab.research.google.com/assets/colab-badge.svg\" alt=\"Open In Colab\"/></a>"
      ]
    },
    {
      "cell_type": "markdown",
      "metadata": {
        "id": "Z4EewupJkKAB"
      },
      "source": [
        "Solve:\n",
        "\n",
        "$\\begin{cases} x+2y=1 \\\\ 3x+4y=2 \\end{cases}$"
      ]
    },
    {
      "cell_type": "code",
      "execution_count": null,
      "metadata": {
        "id": "dxZf-inskKAD",
        "outputId": "aaf67e4c-47af-4b8a-fc6a-4e17aff37cde"
      },
      "outputs": [
        {
          "name": "stdout",
          "output_type": "stream",
          "text": [
            "[[1 2]\n",
            " [3 4]]\n",
            "[1 2]\n",
            "[[-2.   1. ]\n",
            " [ 1.5 -0.5]]\n",
            "[  2.22044605e-16   5.00000000e-01]\n"
          ]
        }
      ],
      "source": [
        "import numpy as np\n",
        "A = np.array([[1, 2],[3, 4]])\n",
        "b = np.array([1, 2])\n",
        "\n",
        "print (A)\n",
        "print (b)\n",
        "\n",
        "A_inv = np.linalg.inv(A)\n",
        "\n",
        "print (A_inv)\n",
        "\n",
        "x = np.dot(A_inv,b)\n",
        "\n",
        "print (x)\n"
      ]
    },
    {
      "cell_type": "markdown",
      "metadata": {
        "id": "3e2XtIDokKAE"
      },
      "source": [
        "# CONTROL EXECUTIONS\n",
        "For the control of the execution of a program it is possible to use the tests of conditions with $if / elif / else$ and the loops $for or while$. Note the use of: before lines that require a higher level of indentation (and mandatory!):"
      ]
    },
    {
      "cell_type": "code",
      "execution_count": null,
      "metadata": {
        "id": "__z0IYa1kKAF",
        "outputId": "b1b7eae2-6be5-4ea2-a512-a13f9500a0e7"
      },
      "outputs": [
        {
          "name": "stdout",
          "output_type": "stream",
          "text": [
            "(1, 'odd')\n",
            "(3, 'odd')\n",
            "(5, 'odd')\n"
          ]
        }
      ],
      "source": [
        "list0 = range(6)\n",
        "\n",
        "for value in list0:\n",
        "    if value in [0, 2, 4]:\n",
        "        # \"break\" leave the loop without considering \"else\"\n",
        "        # \"continue\" continue with the next iteration \n",
        "        continue\n",
        "    else:\n",
        "        print (value, 'odd')\n"
      ]
    },
    {
      "cell_type": "code",
      "execution_count": null,
      "metadata": {
        "id": "7keN8216kKAF",
        "outputId": "e3ca6802-d6c9-4442-faab-5a34572f74a0"
      },
      "outputs": [
        {
          "name": "stdout",
          "output_type": "stream",
          "text": [
            "5\n",
            "4\n",
            "3\n",
            "2\n",
            "1\n"
          ]
        }
      ],
      "source": [
        "i = 5\n",
        "\n",
        "while (i>0):\n",
        "    print (i)\n",
        "    i=i-1"
      ]
    },
    {
      "cell_type": "markdown",
      "metadata": {
        "id": "y2EpGLsBkKAF"
      },
      "source": [
        "There is no $switch$ equivalent in Python, you have to use $if / elif / else$:"
      ]
    },
    {
      "cell_type": "code",
      "execution_count": null,
      "metadata": {
        "id": "jDAjbUpGkKAF",
        "outputId": "c85e35f9-80cb-4d8e-bb68-fc149fc38c9e"
      },
      "outputs": [
        {
          "name": "stdout",
          "output_type": "stream",
          "text": [
            "list0[1] is 1\n"
          ]
        }
      ],
      "source": [
        "if list0[1]==0:\n",
        "    print('list0[1] is 0')\n",
        "elif list0[1]==1:\n",
        "    print ('list0[1] is 1')\n",
        "else:\n",
        "    print('?')\n",
        "    \n",
        "    "
      ]
    },
    {
      "cell_type": "markdown",
      "metadata": {
        "id": "GtkmPAlzkKAG"
      },
      "source": [
        "Python offers standard exception handling. The following example shows the syntax to use."
      ]
    },
    {
      "cell_type": "code",
      "execution_count": null,
      "metadata": {
        "id": "dI3e7WPxkKAG"
      },
      "outputs": [],
      "source": [
        "def autreFonction(n):\n",
        "        try:  # instruction susceptible to raise an  exception\n",
        "            print(1 / n)\n",
        "        except ZeroDivisionError:  # if the exception is raised\n",
        "            print('Division by 0 !')\n",
        "        else:  # else\n",
        "            print ('we are here')\n",
        "        finally:\n",
        "            # exécuté après le bloc \"try\" et le\n",
        "            #  traitement des éventuelles erreurs\n",
        "            print('    End...')"
      ]
    },
    {
      "cell_type": "code",
      "execution_count": null,
      "metadata": {
        "id": "gtxsNiUGkKAG",
        "outputId": "5fc5963d-5d4d-4bfd-cf22-358f7c82ff14"
      },
      "outputs": [
        {
          "name": "stdout",
          "output_type": "stream",
          "text": [
            "1\n",
            "we are here\n",
            "    End...\n"
          ]
        }
      ],
      "source": [
        "autreFonction(1)"
      ]
    },
    {
      "cell_type": "code",
      "execution_count": null,
      "metadata": {
        "id": "_qLffObikKAG",
        "outputId": "1d590f4a-5444-416d-f420-37631f9aa078"
      },
      "outputs": [
        {
          "name": "stdout",
          "output_type": "stream",
          "text": [
            "Division by 0 !\n",
            "    End...\n"
          ]
        }
      ],
      "source": [
        "autreFonction(0)"
      ]
    },
    {
      "cell_type": "code",
      "execution_count": null,
      "metadata": {
        "id": "fLVeRQlVkKAH",
        "outputId": "324f1e28-1f07-4744-fffa-1b675c0d99ca"
      },
      "outputs": [
        {
          "data": {
            "image/png": "[encoded data removed]",
            "text/plain": [
              "<Figure size 432x288 with 1 Axes>"
            ]
          },
          "metadata": {},
          "output_type": "display_data"
        }
      ],
      "source": [
        "import numpy as np\n",
        "from scipy import interpolate\n",
        "from matplotlib import pyplot as plt\n",
        "\n",
        "t = np.arange(11)\n",
        "sine = np.sin(t)\n",
        "\n",
        "#creating our quadratic interpolation subfunction\n",
        "\n",
        "F_sine = interpolate.interp1d(t,sine,kind='quadratic')\n",
        "\n",
        "# second time axis on which we interpolate\n",
        "\n",
        "t2 = np.arange(0, 10., .25)\n",
        "\n",
        "\n",
        "sine2 = F_sine(t2)\n",
        "\n",
        "plt.plot(t, sine, 'rx-')\n",
        "plt.plot(t2, sine2, 'bd-')\n",
        "plt.show()\n"
      ]
    },
    {
      "cell_type": "code",
      "execution_count": null,
      "metadata": {
        "id": "24Hg_JcNkKAH",
        "outputId": "a8c70316-2a39-42fb-fd17-a57e9288d229"
      },
      "outputs": [
        {
          "data": {
            "image/png": "[encoded data removed]",
            "text/plain": [
              "<Figure size 432x288 with 2 Axes>"
            ]
          },
          "metadata": {},
          "output_type": "display_data"
        }
      ],
      "source": [
        "from scipy import fftpack\n",
        "\n",
        "# sampling frequency\n",
        "fe = 100\n",
        "\n",
        "# time period in second\n",
        "\n",
        "T = 10\n",
        "\n",
        "# nomber of points or data nuber of sample\n",
        "N = T*fe\n",
        "\n",
        "# step times\n",
        "t = np.arange(1.,N)/fe\n",
        "\n",
        "# signal frequency\n",
        "f0 = 0.5\n",
        "\n",
        "# signal \n",
        "sine = np.sin(2*np.pi*f0*t)\n",
        "\n",
        "# add noise\n",
        "bruit = np.random.normal(0,0.5,N-1)\n",
        "sine2 = sine + bruit\n",
        "# Fourrier transform\n",
        "fourier = fftpack.fft(sine2)/np.size(sine2)\n",
        "# step frequency\n",
        "axe_f = np.arange(0.,N-1)*fe/N\n",
        "# On plot\n",
        "plt.figure()\n",
        "plt.subplot(121)\n",
        "plt.plot(t,sine2,'-')\n",
        "plt.plot(t,sine,'r-')\n",
        "plt.xlabel('Time axis, in second')\n",
        "plt.subplot(122)\n",
        "plt.plot(axe_f,np.abs(fourier),'x-')\n",
        "plt.xlabel('Frequency axis in Hertz')\n",
        "plt.show()\n",
        "\n",
        "\n"
      ]
    },
    {
      "cell_type": "code",
      "execution_count": null,
      "metadata": {
        "id": "VFZ8Dq7ikKAH"
      },
      "outputs": [],
      "source": []
    }
  ],
  "metadata": {
    "kernelspec": {
      "display_name": "Python 2",
      "language": "python",
      "name": "python2"
    },
    "language_info": {
      "codemirror_mode": {
        "name": "ipython",
        "version": 2
      },
      "file_extension": ".py",
      "mimetype": "text/x-python",
      "name": "python",
      "nbconvert_exporter": "python",
      "pygments_lexer": "ipython2",
      "version": "2.7.6"
    },
    "colab": {
      "provenance": [],
      "include_colab_link": true
    }
  },
  "nbformat": 4,
  "nbformat_minor": 0
}